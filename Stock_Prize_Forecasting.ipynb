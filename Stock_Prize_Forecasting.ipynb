{
  "nbformat": 4,
  "nbformat_minor": 0,
  "metadata": {
    "colab": {
      "name": "Stock_Prize_Forecasting.ipynb",
      "provenance": [],
      "authorship_tag": "ABX9TyMNc0mj26rQYNTUQ+bDKuVL",
      "include_colab_link": true
    },
    "kernelspec": {
      "display_name": "Python 3",
      "name": "python3"
    }
  },
  "cells": [
    {
      "cell_type": "markdown",
      "metadata": {
        "id": "view-in-github",
        "colab_type": "text"
      },
      "source": [
        "<a href=\"https://colab.research.google.com/github/mahima-c/Stock-Market-Forecasting/blob/main/Stock_Prize_Forecasting.ipynb\" target=\"_parent\"><img src=\"https://colab.research.google.com/assets/colab-badge.svg\" alt=\"Open In Colab\"/></a>"
      ]
    },
    {
      "cell_type": "markdown",
      "metadata": {
        "id": "AO-PCfgJ3O8Z"
      },
      "source": [
        "**Stock Market Prediction and Forecasting Using stacked LSTM**"
      ]
    },
    {
      "cell_type": "code",
      "metadata": {
        "id": "s_D5OJgY3hvw"
      },
      "source": [
        "# data Collection\r\n",
        "\r\n",
        "import pandas_datareader as pdr\r\n",
        "import os"
      ],
      "execution_count": 22,
      "outputs": []
    },
    {
      "cell_type": "code",
      "metadata": {
        "colab": {
          "base_uri": "https://localhost:8080/",
          "height": 337
        },
        "id": "ew6Bsdxs3rVF",
        "outputId": "3331a9ab-1dfa-450e-d9f7-688683ee5011"
      },
      "source": [
        "TIINGO_API_KEY=\"85f767849d48ecab3d73e334589408a866c2a229\"\r\n",
        "df=df = pdr.get_data_tiingo('APPL', api_key=TIINGO_API_KEY)"
      ],
      "execution_count": 23,
      "outputs": [
        {
          "output_type": "error",
          "ename": "RemoteDataError",
          "evalue": "ignored",
          "traceback": [
            "\u001b[0;31m---------------------------------------------------------------------------\u001b[0m",
            "\u001b[0;31mRemoteDataError\u001b[0m                           Traceback (most recent call last)",
            "\u001b[0;32m<ipython-input-23-b0eb9be44ba5>\u001b[0m in \u001b[0;36m<module>\u001b[0;34m()\u001b[0m\n\u001b[1;32m      1\u001b[0m \u001b[0mTIINGO_API_KEY\u001b[0m\u001b[0;34m=\u001b[0m\u001b[0;34m\"85f767849d48ecab3d73e334589408a866c2a229\"\u001b[0m\u001b[0;34m\u001b[0m\u001b[0;34m\u001b[0m\u001b[0m\n\u001b[0;32m----> 2\u001b[0;31m \u001b[0mdf\u001b[0m\u001b[0;34m=\u001b[0m\u001b[0mdf\u001b[0m \u001b[0;34m=\u001b[0m \u001b[0mpdr\u001b[0m\u001b[0;34m.\u001b[0m\u001b[0mget_data_tiingo\u001b[0m\u001b[0;34m(\u001b[0m\u001b[0;34m'APPL'\u001b[0m\u001b[0;34m,\u001b[0m \u001b[0mapi_key\u001b[0m\u001b[0;34m=\u001b[0m\u001b[0mTIINGO_API_KEY\u001b[0m\u001b[0;34m)\u001b[0m\u001b[0;34m\u001b[0m\u001b[0;34m\u001b[0m\u001b[0m\n\u001b[0m",
            "\u001b[0;32m/usr/local/lib/python3.6/dist-packages/pandas_datareader/data.py\u001b[0m in \u001b[0;36mget_data_tiingo\u001b[0;34m(*args, **kwargs)\u001b[0m\n\u001b[1;32m    124\u001b[0m \u001b[0;34m\u001b[0m\u001b[0m\n\u001b[1;32m    125\u001b[0m \u001b[0;32mdef\u001b[0m \u001b[0mget_data_tiingo\u001b[0m\u001b[0;34m(\u001b[0m\u001b[0;34m*\u001b[0m\u001b[0margs\u001b[0m\u001b[0;34m,\u001b[0m \u001b[0;34m**\u001b[0m\u001b[0mkwargs\u001b[0m\u001b[0;34m)\u001b[0m\u001b[0;34m:\u001b[0m\u001b[0;34m\u001b[0m\u001b[0;34m\u001b[0m\u001b[0m\n\u001b[0;32m--> 126\u001b[0;31m     \u001b[0;32mreturn\u001b[0m \u001b[0mTiingoDailyReader\u001b[0m\u001b[0;34m(\u001b[0m\u001b[0;34m*\u001b[0m\u001b[0margs\u001b[0m\u001b[0;34m,\u001b[0m \u001b[0;34m**\u001b[0m\u001b[0mkwargs\u001b[0m\u001b[0;34m)\u001b[0m\u001b[0;34m.\u001b[0m\u001b[0mread\u001b[0m\u001b[0;34m(\u001b[0m\u001b[0;34m)\u001b[0m\u001b[0;34m\u001b[0m\u001b[0;34m\u001b[0m\u001b[0m\n\u001b[0m\u001b[1;32m    127\u001b[0m \u001b[0;34m\u001b[0m\u001b[0m\n\u001b[1;32m    128\u001b[0m \u001b[0;34m\u001b[0m\u001b[0m\n",
            "\u001b[0;32m/usr/local/lib/python3.6/dist-packages/pandas_datareader/tiingo.py\u001b[0m in \u001b[0;36mread\u001b[0;34m(self)\u001b[0m\n\u001b[1;32m    229\u001b[0m             \u001b[0mself\u001b[0m\u001b[0;34m.\u001b[0m\u001b[0m_symbol\u001b[0m \u001b[0;34m=\u001b[0m \u001b[0msymbol\u001b[0m\u001b[0;34m\u001b[0m\u001b[0;34m\u001b[0m\u001b[0m\n\u001b[1;32m    230\u001b[0m             \u001b[0;32mtry\u001b[0m\u001b[0;34m:\u001b[0m\u001b[0;34m\u001b[0m\u001b[0;34m\u001b[0m\u001b[0m\n\u001b[0;32m--> 231\u001b[0;31m                 \u001b[0mdfs\u001b[0m\u001b[0;34m.\u001b[0m\u001b[0mappend\u001b[0m\u001b[0;34m(\u001b[0m\u001b[0mself\u001b[0m\u001b[0;34m.\u001b[0m\u001b[0m_read_one_data\u001b[0m\u001b[0;34m(\u001b[0m\u001b[0mself\u001b[0m\u001b[0;34m.\u001b[0m\u001b[0murl\u001b[0m\u001b[0;34m,\u001b[0m \u001b[0mself\u001b[0m\u001b[0;34m.\u001b[0m\u001b[0mparams\u001b[0m\u001b[0;34m)\u001b[0m\u001b[0;34m)\u001b[0m\u001b[0;34m\u001b[0m\u001b[0;34m\u001b[0m\u001b[0m\n\u001b[0m\u001b[1;32m    232\u001b[0m             \u001b[0;32mfinally\u001b[0m\u001b[0;34m:\u001b[0m\u001b[0;34m\u001b[0m\u001b[0;34m\u001b[0m\u001b[0m\n\u001b[1;32m    233\u001b[0m                 \u001b[0mself\u001b[0m\u001b[0;34m.\u001b[0m\u001b[0mclose\u001b[0m\u001b[0;34m(\u001b[0m\u001b[0;34m)\u001b[0m\u001b[0;34m\u001b[0m\u001b[0;34m\u001b[0m\u001b[0m\n",
            "\u001b[0;32m/usr/local/lib/python3.6/dist-packages/pandas_datareader/tiingo.py\u001b[0m in \u001b[0;36m_read_one_data\u001b[0;34m(self, url, params)\u001b[0m\n\u001b[1;32m    213\u001b[0m             \u001b[0;34m\"Authorization\"\u001b[0m\u001b[0;34m:\u001b[0m \u001b[0;34m\"Token \"\u001b[0m \u001b[0;34m+\u001b[0m \u001b[0mself\u001b[0m\u001b[0;34m.\u001b[0m\u001b[0mapi_key\u001b[0m\u001b[0;34m,\u001b[0m\u001b[0;34m\u001b[0m\u001b[0;34m\u001b[0m\u001b[0m\n\u001b[1;32m    214\u001b[0m         }\n\u001b[0;32m--> 215\u001b[0;31m         \u001b[0mout\u001b[0m \u001b[0;34m=\u001b[0m \u001b[0mself\u001b[0m\u001b[0;34m.\u001b[0m\u001b[0m_get_response\u001b[0m\u001b[0;34m(\u001b[0m\u001b[0murl\u001b[0m\u001b[0;34m,\u001b[0m \u001b[0mparams\u001b[0m\u001b[0;34m=\u001b[0m\u001b[0mparams\u001b[0m\u001b[0;34m,\u001b[0m \u001b[0mheaders\u001b[0m\u001b[0;34m=\u001b[0m\u001b[0mheaders\u001b[0m\u001b[0;34m)\u001b[0m\u001b[0;34m.\u001b[0m\u001b[0mjson\u001b[0m\u001b[0;34m(\u001b[0m\u001b[0;34m)\u001b[0m\u001b[0;34m\u001b[0m\u001b[0;34m\u001b[0m\u001b[0m\n\u001b[0m\u001b[1;32m    216\u001b[0m         \u001b[0;32mreturn\u001b[0m \u001b[0mself\u001b[0m\u001b[0;34m.\u001b[0m\u001b[0m_read_lines\u001b[0m\u001b[0;34m(\u001b[0m\u001b[0mout\u001b[0m\u001b[0;34m)\u001b[0m\u001b[0;34m\u001b[0m\u001b[0;34m\u001b[0m\u001b[0m\n\u001b[1;32m    217\u001b[0m \u001b[0;34m\u001b[0m\u001b[0m\n",
            "\u001b[0;32m/usr/local/lib/python3.6/dist-packages/pandas_datareader/base.py\u001b[0m in \u001b[0;36m_get_response\u001b[0;34m(self, url, params, headers)\u001b[0m\n\u001b[1;32m    179\u001b[0m             \u001b[0mmsg\u001b[0m \u001b[0;34m+=\u001b[0m \u001b[0;34m\"\\nResponse Text:\\n{0}\"\u001b[0m\u001b[0;34m.\u001b[0m\u001b[0mformat\u001b[0m\u001b[0;34m(\u001b[0m\u001b[0mlast_response_text\u001b[0m\u001b[0;34m)\u001b[0m\u001b[0;34m\u001b[0m\u001b[0;34m\u001b[0m\u001b[0m\n\u001b[1;32m    180\u001b[0m \u001b[0;34m\u001b[0m\u001b[0m\n\u001b[0;32m--> 181\u001b[0;31m         \u001b[0;32mraise\u001b[0m \u001b[0mRemoteDataError\u001b[0m\u001b[0;34m(\u001b[0m\u001b[0mmsg\u001b[0m\u001b[0;34m)\u001b[0m\u001b[0;34m\u001b[0m\u001b[0;34m\u001b[0m\u001b[0m\n\u001b[0m\u001b[1;32m    182\u001b[0m \u001b[0;34m\u001b[0m\u001b[0m\n\u001b[1;32m    183\u001b[0m     \u001b[0;32mdef\u001b[0m \u001b[0m_get_crumb\u001b[0m\u001b[0;34m(\u001b[0m\u001b[0mself\u001b[0m\u001b[0;34m,\u001b[0m \u001b[0;34m*\u001b[0m\u001b[0margs\u001b[0m\u001b[0;34m)\u001b[0m\u001b[0;34m:\u001b[0m\u001b[0;34m\u001b[0m\u001b[0;34m\u001b[0m\u001b[0m\n",
            "\u001b[0;31mRemoteDataError\u001b[0m: Unable to read URL: https://api.tiingo.com/tiingo/daily/APPL/prices?startDate=2015-12-23&endDate=2020-12-21&format=json"
          ]
        }
      ]
    },
    {
      "cell_type": "code",
      "metadata": {
        "colab": {
          "base_uri": "https://localhost:8080/",
          "height": 329
        },
        "id": "RKugw7F95BHq",
        "outputId": "d29144a1-29e6-4b79-bfe8-da1a10f276b0"
      },
      "source": [
        "df.head()"
      ],
      "execution_count": null,
      "outputs": [
        {
          "output_type": "execute_result",
          "data": {
            "text/html": [
              "<div>\n",
              "<style scoped>\n",
              "    .dataframe tbody tr th:only-of-type {\n",
              "        vertical-align: middle;\n",
              "    }\n",
              "\n",
              "    .dataframe tbody tr th {\n",
              "        vertical-align: top;\n",
              "    }\n",
              "\n",
              "    .dataframe thead th {\n",
              "        text-align: right;\n",
              "    }\n",
              "</style>\n",
              "<table border=\"1\" class=\"dataframe\">\n",
              "  <thead>\n",
              "    <tr style=\"text-align: right;\">\n",
              "      <th></th>\n",
              "      <th></th>\n",
              "      <th>close</th>\n",
              "      <th>high</th>\n",
              "      <th>low</th>\n",
              "      <th>open</th>\n",
              "      <th>volume</th>\n",
              "      <th>adjClose</th>\n",
              "      <th>adjHigh</th>\n",
              "      <th>adjLow</th>\n",
              "      <th>adjOpen</th>\n",
              "      <th>adjVolume</th>\n",
              "      <th>divCash</th>\n",
              "      <th>splitFactor</th>\n",
              "    </tr>\n",
              "    <tr>\n",
              "      <th>symbol</th>\n",
              "      <th>date</th>\n",
              "      <th></th>\n",
              "      <th></th>\n",
              "      <th></th>\n",
              "      <th></th>\n",
              "      <th></th>\n",
              "      <th></th>\n",
              "      <th></th>\n",
              "      <th></th>\n",
              "      <th></th>\n",
              "      <th></th>\n",
              "      <th></th>\n",
              "      <th></th>\n",
              "    </tr>\n",
              "  </thead>\n",
              "  <tbody>\n",
              "    <tr>\n",
              "      <th rowspan=\"5\" valign=\"top\">GOOG</th>\n",
              "      <th>2015-12-23 00:00:00+00:00</th>\n",
              "      <td>750.31</td>\n",
              "      <td>754.21</td>\n",
              "      <td>744.00</td>\n",
              "      <td>753.47</td>\n",
              "      <td>1566726</td>\n",
              "      <td>750.31</td>\n",
              "      <td>754.21</td>\n",
              "      <td>744.00</td>\n",
              "      <td>753.47</td>\n",
              "      <td>1566726</td>\n",
              "      <td>0.0</td>\n",
              "      <td>1.0</td>\n",
              "    </tr>\n",
              "    <tr>\n",
              "      <th>2015-12-24 00:00:00+00:00</th>\n",
              "      <td>748.40</td>\n",
              "      <td>751.35</td>\n",
              "      <td>746.62</td>\n",
              "      <td>749.55</td>\n",
              "      <td>527223</td>\n",
              "      <td>748.40</td>\n",
              "      <td>751.35</td>\n",
              "      <td>746.62</td>\n",
              "      <td>749.55</td>\n",
              "      <td>527223</td>\n",
              "      <td>0.0</td>\n",
              "      <td>1.0</td>\n",
              "    </tr>\n",
              "    <tr>\n",
              "      <th>2015-12-28 00:00:00+00:00</th>\n",
              "      <td>762.51</td>\n",
              "      <td>762.99</td>\n",
              "      <td>749.52</td>\n",
              "      <td>752.92</td>\n",
              "      <td>1515716</td>\n",
              "      <td>762.51</td>\n",
              "      <td>762.99</td>\n",
              "      <td>749.52</td>\n",
              "      <td>752.92</td>\n",
              "      <td>1515716</td>\n",
              "      <td>0.0</td>\n",
              "      <td>1.0</td>\n",
              "    </tr>\n",
              "    <tr>\n",
              "      <th>2015-12-29 00:00:00+00:00</th>\n",
              "      <td>776.60</td>\n",
              "      <td>779.98</td>\n",
              "      <td>766.43</td>\n",
              "      <td>766.69</td>\n",
              "      <td>1765012</td>\n",
              "      <td>776.60</td>\n",
              "      <td>779.98</td>\n",
              "      <td>766.43</td>\n",
              "      <td>766.69</td>\n",
              "      <td>1765012</td>\n",
              "      <td>0.0</td>\n",
              "      <td>1.0</td>\n",
              "    </tr>\n",
              "    <tr>\n",
              "      <th>2015-12-30 00:00:00+00:00</th>\n",
              "      <td>771.00</td>\n",
              "      <td>777.60</td>\n",
              "      <td>766.90</td>\n",
              "      <td>776.60</td>\n",
              "      <td>1293521</td>\n",
              "      <td>771.00</td>\n",
              "      <td>777.60</td>\n",
              "      <td>766.90</td>\n",
              "      <td>776.60</td>\n",
              "      <td>1293521</td>\n",
              "      <td>0.0</td>\n",
              "      <td>1.0</td>\n",
              "    </tr>\n",
              "  </tbody>\n",
              "</table>\n",
              "</div>"
            ],
            "text/plain": [
              "                                   close    high  ...  divCash  splitFactor\n",
              "symbol date                                       ...                      \n",
              "GOOG   2015-12-23 00:00:00+00:00  750.31  754.21  ...      0.0          1.0\n",
              "       2015-12-24 00:00:00+00:00  748.40  751.35  ...      0.0          1.0\n",
              "       2015-12-28 00:00:00+00:00  762.51  762.99  ...      0.0          1.0\n",
              "       2015-12-29 00:00:00+00:00  776.60  779.98  ...      0.0          1.0\n",
              "       2015-12-30 00:00:00+00:00  771.00  777.60  ...      0.0          1.0\n",
              "\n",
              "[5 rows x 12 columns]"
            ]
          },
          "metadata": {
            "tags": []
          },
          "execution_count": 10
        }
      ]
    },
    {
      "cell_type": "code",
      "metadata": {
        "id": "_0Pi0EtF5IGT"
      },
      "source": [
        "df.to_csv('appl.csv')"
      ],
      "execution_count": null,
      "outputs": []
    },
    {
      "cell_type": "code",
      "metadata": {
        "colab": {
          "base_uri": "https://localhost:8080/",
          "height": 299
        },
        "id": "K6NjAM3Y5PaH",
        "outputId": "fa229c2d-cae1-4c05-f45f-a1d9474685e0"
      },
      "source": [
        "import pandas as pd\r\n",
        "df=pd.read_csv(\"appl.csv\")\r\n",
        "df.head()"
      ],
      "execution_count": 24,
      "outputs": [
        {
          "output_type": "execute_result",
          "data": {
            "text/html": [
              "<div>\n",
              "<style scoped>\n",
              "    .dataframe tbody tr th:only-of-type {\n",
              "        vertical-align: middle;\n",
              "    }\n",
              "\n",
              "    .dataframe tbody tr th {\n",
              "        vertical-align: top;\n",
              "    }\n",
              "\n",
              "    .dataframe thead th {\n",
              "        text-align: right;\n",
              "    }\n",
              "</style>\n",
              "<table border=\"1\" class=\"dataframe\">\n",
              "  <thead>\n",
              "    <tr style=\"text-align: right;\">\n",
              "      <th></th>\n",
              "      <th>symbol</th>\n",
              "      <th>date</th>\n",
              "      <th>close</th>\n",
              "      <th>high</th>\n",
              "      <th>low</th>\n",
              "      <th>open</th>\n",
              "      <th>volume</th>\n",
              "      <th>adjClose</th>\n",
              "      <th>adjHigh</th>\n",
              "      <th>adjLow</th>\n",
              "      <th>adjOpen</th>\n",
              "      <th>adjVolume</th>\n",
              "      <th>divCash</th>\n",
              "      <th>splitFactor</th>\n",
              "    </tr>\n",
              "  </thead>\n",
              "  <tbody>\n",
              "    <tr>\n",
              "      <th>0</th>\n",
              "      <td>GOOG</td>\n",
              "      <td>2015-12-23 00:00:00+00:00</td>\n",
              "      <td>750.31</td>\n",
              "      <td>754.21</td>\n",
              "      <td>744.00</td>\n",
              "      <td>753.47</td>\n",
              "      <td>1566726</td>\n",
              "      <td>750.31</td>\n",
              "      <td>754.21</td>\n",
              "      <td>744.00</td>\n",
              "      <td>753.47</td>\n",
              "      <td>1566726</td>\n",
              "      <td>0.0</td>\n",
              "      <td>1.0</td>\n",
              "    </tr>\n",
              "    <tr>\n",
              "      <th>1</th>\n",
              "      <td>GOOG</td>\n",
              "      <td>2015-12-24 00:00:00+00:00</td>\n",
              "      <td>748.40</td>\n",
              "      <td>751.35</td>\n",
              "      <td>746.62</td>\n",
              "      <td>749.55</td>\n",
              "      <td>527223</td>\n",
              "      <td>748.40</td>\n",
              "      <td>751.35</td>\n",
              "      <td>746.62</td>\n",
              "      <td>749.55</td>\n",
              "      <td>527223</td>\n",
              "      <td>0.0</td>\n",
              "      <td>1.0</td>\n",
              "    </tr>\n",
              "    <tr>\n",
              "      <th>2</th>\n",
              "      <td>GOOG</td>\n",
              "      <td>2015-12-28 00:00:00+00:00</td>\n",
              "      <td>762.51</td>\n",
              "      <td>762.99</td>\n",
              "      <td>749.52</td>\n",
              "      <td>752.92</td>\n",
              "      <td>1515716</td>\n",
              "      <td>762.51</td>\n",
              "      <td>762.99</td>\n",
              "      <td>749.52</td>\n",
              "      <td>752.92</td>\n",
              "      <td>1515716</td>\n",
              "      <td>0.0</td>\n",
              "      <td>1.0</td>\n",
              "    </tr>\n",
              "    <tr>\n",
              "      <th>3</th>\n",
              "      <td>GOOG</td>\n",
              "      <td>2015-12-29 00:00:00+00:00</td>\n",
              "      <td>776.60</td>\n",
              "      <td>779.98</td>\n",
              "      <td>766.43</td>\n",
              "      <td>766.69</td>\n",
              "      <td>1765012</td>\n",
              "      <td>776.60</td>\n",
              "      <td>779.98</td>\n",
              "      <td>766.43</td>\n",
              "      <td>766.69</td>\n",
              "      <td>1765012</td>\n",
              "      <td>0.0</td>\n",
              "      <td>1.0</td>\n",
              "    </tr>\n",
              "    <tr>\n",
              "      <th>4</th>\n",
              "      <td>GOOG</td>\n",
              "      <td>2015-12-30 00:00:00+00:00</td>\n",
              "      <td>771.00</td>\n",
              "      <td>777.60</td>\n",
              "      <td>766.90</td>\n",
              "      <td>776.60</td>\n",
              "      <td>1293521</td>\n",
              "      <td>771.00</td>\n",
              "      <td>777.60</td>\n",
              "      <td>766.90</td>\n",
              "      <td>776.60</td>\n",
              "      <td>1293521</td>\n",
              "      <td>0.0</td>\n",
              "      <td>1.0</td>\n",
              "    </tr>\n",
              "  </tbody>\n",
              "</table>\n",
              "</div>"
            ],
            "text/plain": [
              "  symbol                       date   close  ...  adjVolume  divCash  splitFactor\n",
              "0   GOOG  2015-12-23 00:00:00+00:00  750.31  ...    1566726      0.0          1.0\n",
              "1   GOOG  2015-12-24 00:00:00+00:00  748.40  ...     527223      0.0          1.0\n",
              "2   GOOG  2015-12-28 00:00:00+00:00  762.51  ...    1515716      0.0          1.0\n",
              "3   GOOG  2015-12-29 00:00:00+00:00  776.60  ...    1765012      0.0          1.0\n",
              "4   GOOG  2015-12-30 00:00:00+00:00  771.00  ...    1293521      0.0          1.0\n",
              "\n",
              "[5 rows x 14 columns]"
            ]
          },
          "metadata": {
            "tags": []
          },
          "execution_count": 24
        }
      ]
    },
    {
      "cell_type": "code",
      "metadata": {
        "id": "bEY0iWVg5fXt"
      },
      "source": [
        "df1=df.reset_index()['close']"
      ],
      "execution_count": 26,
      "outputs": []
    },
    {
      "cell_type": "code",
      "metadata": {
        "colab": {
          "base_uri": "https://localhost:8080/"
        },
        "id": "Zq9y34vWD0y5",
        "outputId": "2c53c24a-71ef-4ff8-f0b5-a2143e5f171d"
      },
      "source": [
        "df1"
      ],
      "execution_count": 27,
      "outputs": [
        {
          "output_type": "execute_result",
          "data": {
            "text/plain": [
              "0        750.31\n",
              "1        748.40\n",
              "2        762.51\n",
              "3        776.60\n",
              "4        771.00\n",
              "         ...   \n",
              "1252    1760.06\n",
              "1253    1767.77\n",
              "1254    1763.00\n",
              "1255    1747.90\n",
              "1256    1731.01\n",
              "Name: close, Length: 1257, dtype: float64"
            ]
          },
          "metadata": {
            "tags": []
          },
          "execution_count": 27
        }
      ]
    },
    {
      "cell_type": "code",
      "metadata": {
        "colab": {
          "base_uri": "https://localhost:8080/",
          "height": 282
        },
        "id": "J5pq6kaqD0-r",
        "outputId": "7b3e523b-479d-41a4-8313-0d3c45c61a4c"
      },
      "source": [
        "import matplotlib.pyplot as plt\r\n",
        "plt.plot(df1)"
      ],
      "execution_count": 28,
      "outputs": [
        {
          "output_type": "execute_result",
          "data": {
            "text/plain": [
              "[<matplotlib.lines.Line2D at 0x7f6b0c6b81d0>]"
            ]
          },
          "metadata": {
            "tags": []
          },
          "execution_count": 28
        },
        {
          "output_type": "display_data",
          "data": {
            "image/png": "[encoded data removed]",
            "text/plain": [
              "<Figure size 432x288 with 1 Axes>"
            ]
          },
          "metadata": {
            "tags": [],
            "needs_background": "light"
          }
        }
      ]
    },
    {
      "cell_type": "code",
      "metadata": {
        "id": "kX1MrGKjD92i"
      },
      "source": [
        "### LSTM are sensitive to the scale of the data. so we apply MinMax scaler\r\n",
        "import numpy as np\r\n"
      ],
      "execution_count": 29,
      "outputs": []
    },
    {
      "cell_type": "code",
      "metadata": {
        "id": "lWjCgdwUD-C_"
      },
      "source": [
        "\r\n",
        "from sklearn.preprocessing import MinMaxScaler\r\n",
        "scaler=MinMaxScaler(feature_range=(0,1))\r\n",
        "df1=scaler.fit_transform(np.array(df1).reshape(-1,1))"
      ],
      "execution_count": 30,
      "outputs": []
    },
    {
      "cell_type": "code",
      "metadata": {
        "colab": {
          "base_uri": "https://localhost:8080/"
        },
        "id": "TNnBU0rSEFr6",
        "outputId": "1ea7db96-1353-4b00-adaa-8365e87420a7"
      },
      "source": [
        "df1"
      ],
      "execution_count": 31,
      "outputs": [
        {
          "output_type": "execute_result",
          "data": {
            "text/plain": [
              "array([[0.07074923],\n",
              "       [0.06910229],\n",
              "       [0.08126892],\n",
              "       ...,\n",
              "       [0.94396109],\n",
              "       [0.93094082],\n",
              "       [0.91637709]])"
            ]
          },
          "metadata": {
            "tags": []
          },
          "execution_count": 31
        }
      ]
    },
    {
      "cell_type": "code",
      "metadata": {
        "id": "f9_58M_4EFwx"
      },
      "source": [
        "##splitting dataset into train and test split\r\n",
        "# in time series\r\n",
        "# we can use crossvalidation beacuse that choose randmly mean that loos the time stamp imformation so we can split by self\r\n",
        "training_size=int(len(df1)*0.65)\r\n",
        "test_size=len(df1)-training_size\r\n",
        "train_data,test_data=df1[0:training_size,:],df1[training_size:len(df1),:1]"
      ],
      "execution_count": 33,
      "outputs": []
    },
    {
      "cell_type": "code",
      "metadata": {
        "id": "XXQ9p0n1EFyn"
      },
      "source": [
        "# convert an array of values into a dataset matrix\r\n",
        "# timestep is that how much day previous depend on predict next day\r\n",
        "# example seq is ---> 120,110,125,145,135\r\n",
        "# timestep=3\r\n",
        "# 120 110 125 o/p=145....\r\n",
        "def create_dataset(dataset, time_step=1):\r\n",
        "\tdataX, dataY = [], []\r\n",
        "\tfor i in range(len(dataset)-time_step-1):\r\n",
        "\t\ta = dataset[i:(i+time_step), 0]   ###i=0, 0,1,2,3-----99   100 \r\n",
        "\t\tdataX.append(a)\r\n",
        "\t\tdataY.append(dataset[i + time_step, 0])\r\n",
        "\treturn np.array(dataX), np.array(dataY)"
      ],
      "execution_count": 34,
      "outputs": []
    },
    {
      "cell_type": "code",
      "metadata": {
        "id": "XCkR2I2FIcWb"
      },
      "source": [
        "# reshape into X=t,t+1,t+2,t+3 and Y=t+4\r\n",
        "time_step = 100\r\n",
        "X_train, y_train = create_dataset(train_data, time_step)\r\n",
        "X_test, ytest = create_dataset(test_data, time_step)"
      ],
      "execution_count": 35,
      "outputs": []
    },
    {
      "cell_type": "code",
      "metadata": {
        "colab": {
          "base_uri": "https://localhost:8080/"
        },
        "id": "YATIMHOYIcaG",
        "outputId": "c3dbeb09-45ca-4ec7-9113-d81cd8502f03"
      },
      "source": [
        "print(X_train.shape), print(y_train.shape)\r\n",
        "print(X_test.shape), print(ytest.shape)\r\n"
      ],
      "execution_count": 36,
      "outputs": [
        {
          "output_type": "stream",
          "text": [
            "(716, 100)\n",
            "(716,)\n",
            "(339, 100)\n",
            "(339,)\n"
          ],
          "name": "stdout"
        },
        {
          "output_type": "execute_result",
          "data": {
            "text/plain": [
              "(None, None)"
            ]
          },
          "metadata": {
            "tags": []
          },
          "execution_count": 36
        }
      ]
    },
    {
      "cell_type": "code",
      "metadata": {
        "id": "N_7Y3lmYIceJ"
      },
      "source": [
        "# reshape input to be [samples, time steps, features] which is required for LSTM\r\n",
        "X_train =X_train.reshape(X_train.shape[0],X_train.shape[1] , 1)\r\n",
        "X_test = X_test.reshape(X_test.shape[0],X_test.shape[1] , 1)"
      ],
      "execution_count": 37,
      "outputs": []
    },
    {
      "cell_type": "code",
      "metadata": {
        "id": "VR_YELBrI8oq"
      },
      "source": [
        "\r\n",
        "### Create the Stacked LSTM model\r\n",
        "from tensorflow.keras.models import Sequential\r\n",
        "from tensorflow.keras.layers import Dense\r\n",
        "from tensorflow.keras.layers import LSTM"
      ],
      "execution_count": 38,
      "outputs": []
    },
    {
      "cell_type": "code",
      "metadata": {
        "id": "sUy_gUpgI8rL"
      },
      "source": [
        "\r\n",
        "model=Sequential()\r\n",
        "model.add(LSTM(50,return_sequences=True,input_shape=(100,1)))\r\n",
        "model.add(LSTM(50,return_sequences=True))\r\n",
        "model.add(LSTM(50))\r\n",
        "model.add(Dense(1))\r\n",
        "model.compile(loss='mean_squared_error',optimizer='adam')"
      ],
      "execution_count": 39,
      "outputs": []
    },
    {
      "cell_type": "code",
      "metadata": {
        "colab": {
          "base_uri": "https://localhost:8080/"
        },
        "id": "uwCspFoTI8ul",
        "outputId": "f4b63501-ed2b-4b70-8651-e3a4cd2aa117"
      },
      "source": [
        "model.summary()\r\n"
      ],
      "execution_count": 40,
      "outputs": [
        {
          "output_type": "stream",
          "text": [
            "Model: \"sequential\"\n",
            "_________________________________________________________________\n",
            "Layer (type)                 Output Shape              Param #   \n",
            "=================================================================\n",
            "lstm (LSTM)                  (None, 100, 50)           10400     \n",
            "_________________________________________________________________\n",
            "lstm_1 (LSTM)                (None, 100, 50)           20200     \n",
            "_________________________________________________________________\n",
            "lstm_2 (LSTM)                (None, 50)                20200     \n",
            "_________________________________________________________________\n",
            "dense (Dense)                (None, 1)                 51        \n",
            "=================================================================\n",
            "Total params: 50,851\n",
            "Trainable params: 50,851\n",
            "Non-trainable params: 0\n",
            "_________________________________________________________________\n"
          ],
          "name": "stdout"
        }
      ]
    },
    {
      "cell_type": "code",
      "metadata": {
        "colab": {
          "base_uri": "https://localhost:8080/"
        },
        "id": "JTlUnNrYJJqy",
        "outputId": "ea7d7b9f-5d2e-40af-da10-84f7e9979675"
      },
      "source": [
        "model.fit(X_train,y_train,validation_data=(X_test,ytest),epochs=100,batch_size=64,verbose=1)\r\n"
      ],
      "execution_count": 41,
      "outputs": [
        {
          "output_type": "stream",
          "text": [
            "Epoch 1/100\n",
            "12/12 [==============================] - 7s 270ms/step - loss: 0.0499 - val_loss: 0.0500\n",
            "Epoch 2/100\n",
            "12/12 [==============================] - 2s 178ms/step - loss: 0.0061 - val_loss: 0.0110\n",
            "Epoch 3/100\n",
            "12/12 [==============================] - 2s 180ms/step - loss: 0.0030 - val_loss: 0.0109\n",
            "Epoch 4/100\n",
            "12/12 [==============================] - 2s 174ms/step - loss: 0.0011 - val_loss: 0.0061\n",
            "Epoch 5/100\n",
            "12/12 [==============================] - 2s 182ms/step - loss: 0.0011 - val_loss: 0.0065\n",
            "Epoch 6/100\n",
            "12/12 [==============================] - 2s 185ms/step - loss: 9.7547e-04 - val_loss: 0.0069\n",
            "Epoch 7/100\n",
            "12/12 [==============================] - 2s 174ms/step - loss: 9.5677e-04 - val_loss: 0.0066\n",
            "Epoch 8/100\n",
            "12/12 [==============================] - 2s 175ms/step - loss: 9.5817e-04 - val_loss: 0.0070\n",
            "Epoch 9/100\n",
            "12/12 [==============================] - 2s 174ms/step - loss: 9.7136e-04 - val_loss: 0.0066\n",
            "Epoch 10/100\n",
            "12/12 [==============================] - 2s 175ms/step - loss: 9.0783e-04 - val_loss: 0.0068\n",
            "Epoch 11/100\n",
            "12/12 [==============================] - 2s 174ms/step - loss: 9.2845e-04 - val_loss: 0.0052\n",
            "Epoch 12/100\n",
            "12/12 [==============================] - 2s 173ms/step - loss: 9.4103e-04 - val_loss: 0.0062\n",
            "Epoch 13/100\n",
            "12/12 [==============================] - 2s 175ms/step - loss: 9.2388e-04 - val_loss: 0.0067\n",
            "Epoch 14/100\n",
            "12/12 [==============================] - 2s 175ms/step - loss: 8.6168e-04 - val_loss: 0.0061\n",
            "Epoch 15/100\n",
            "12/12 [==============================] - 2s 181ms/step - loss: 8.1410e-04 - val_loss: 0.0062\n",
            "Epoch 16/100\n",
            "12/12 [==============================] - 2s 175ms/step - loss: 8.7928e-04 - val_loss: 0.0060\n",
            "Epoch 17/100\n",
            "12/12 [==============================] - 2s 182ms/step - loss: 7.9947e-04 - val_loss: 0.0080\n",
            "Epoch 18/100\n",
            "12/12 [==============================] - 2s 185ms/step - loss: 8.3901e-04 - val_loss: 0.0063\n",
            "Epoch 19/100\n",
            "12/12 [==============================] - 2s 189ms/step - loss: 8.5841e-04 - val_loss: 0.0047\n",
            "Epoch 20/100\n",
            "12/12 [==============================] - 2s 185ms/step - loss: 8.1107e-04 - val_loss: 0.0043\n",
            "Epoch 21/100\n",
            "12/12 [==============================] - 2s 196ms/step - loss: 8.8319e-04 - val_loss: 0.0059\n",
            "Epoch 22/100\n",
            "12/12 [==============================] - 2s 188ms/step - loss: 8.3977e-04 - val_loss: 0.0063\n",
            "Epoch 23/100\n",
            "12/12 [==============================] - 2s 189ms/step - loss: 6.8277e-04 - val_loss: 0.0050\n",
            "Epoch 24/100\n",
            "12/12 [==============================] - 2s 193ms/step - loss: 8.0984e-04 - val_loss: 0.0067\n",
            "Epoch 25/100\n",
            "12/12 [==============================] - 2s 186ms/step - loss: 7.3480e-04 - val_loss: 0.0081\n",
            "Epoch 26/100\n",
            "12/12 [==============================] - 2s 193ms/step - loss: 8.3992e-04 - val_loss: 0.0047\n",
            "Epoch 27/100\n",
            "12/12 [==============================] - 2s 183ms/step - loss: 7.2515e-04 - val_loss: 0.0083\n",
            "Epoch 28/100\n",
            "12/12 [==============================] - 2s 174ms/step - loss: 8.1504e-04 - val_loss: 0.0085\n",
            "Epoch 29/100\n",
            "12/12 [==============================] - 2s 174ms/step - loss: 7.4970e-04 - val_loss: 0.0048\n",
            "Epoch 30/100\n",
            "12/12 [==============================] - 2s 175ms/step - loss: 7.8740e-04 - val_loss: 0.0040\n",
            "Epoch 31/100\n",
            "12/12 [==============================] - 2s 181ms/step - loss: 7.3230e-04 - val_loss: 0.0063\n",
            "Epoch 32/100\n",
            "12/12 [==============================] - 2s 176ms/step - loss: 6.9435e-04 - val_loss: 0.0040\n",
            "Epoch 33/100\n",
            "12/12 [==============================] - 2s 173ms/step - loss: 7.7796e-04 - val_loss: 0.0062\n",
            "Epoch 34/100\n",
            "12/12 [==============================] - 2s 175ms/step - loss: 6.3505e-04 - val_loss: 0.0089\n",
            "Epoch 35/100\n",
            "12/12 [==============================] - 2s 181ms/step - loss: 7.2432e-04 - val_loss: 0.0050\n",
            "Epoch 36/100\n",
            "12/12 [==============================] - 2s 174ms/step - loss: 6.0249e-04 - val_loss: 0.0051\n",
            "Epoch 37/100\n",
            "12/12 [==============================] - 2s 197ms/step - loss: 6.0238e-04 - val_loss: 0.0044\n",
            "Epoch 38/100\n",
            "12/12 [==============================] - 2s 181ms/step - loss: 5.9008e-04 - val_loss: 0.0079\n",
            "Epoch 39/100\n",
            "12/12 [==============================] - 2s 190ms/step - loss: 6.8832e-04 - val_loss: 0.0053\n",
            "Epoch 40/100\n",
            "12/12 [==============================] - 2s 182ms/step - loss: 5.9190e-04 - val_loss: 0.0035\n",
            "Epoch 41/100\n",
            "12/12 [==============================] - 2s 174ms/step - loss: 5.8331e-04 - val_loss: 0.0086\n",
            "Epoch 42/100\n",
            "12/12 [==============================] - 2s 196ms/step - loss: 7.2789e-04 - val_loss: 0.0032\n",
            "Epoch 43/100\n",
            "12/12 [==============================] - 2s 176ms/step - loss: 6.9485e-04 - val_loss: 0.0059\n",
            "Epoch 44/100\n",
            "12/12 [==============================] - 2s 186ms/step - loss: 6.3274e-04 - val_loss: 0.0037\n",
            "Epoch 45/100\n",
            "12/12 [==============================] - 2s 181ms/step - loss: 6.0999e-04 - val_loss: 0.0046\n",
            "Epoch 46/100\n",
            "12/12 [==============================] - 2s 186ms/step - loss: 5.2335e-04 - val_loss: 0.0055\n",
            "Epoch 47/100\n",
            "12/12 [==============================] - 2s 182ms/step - loss: 4.9511e-04 - val_loss: 0.0062\n",
            "Epoch 48/100\n",
            "12/12 [==============================] - 2s 178ms/step - loss: 5.7699e-04 - val_loss: 0.0029\n",
            "Epoch 49/100\n",
            "12/12 [==============================] - 2s 183ms/step - loss: 6.0358e-04 - val_loss: 0.0081\n",
            "Epoch 50/100\n",
            "12/12 [==============================] - 2s 175ms/step - loss: 7.8724e-04 - val_loss: 0.0024\n",
            "Epoch 51/100\n",
            "12/12 [==============================] - 2s 173ms/step - loss: 7.7222e-04 - val_loss: 0.0058\n",
            "Epoch 52/100\n",
            "12/12 [==============================] - 2s 189ms/step - loss: 5.4692e-04 - val_loss: 0.0048\n",
            "Epoch 53/100\n",
            "12/12 [==============================] - 2s 175ms/step - loss: 4.8373e-04 - val_loss: 0.0025\n",
            "Epoch 54/100\n",
            "12/12 [==============================] - 2s 175ms/step - loss: 6.3517e-04 - val_loss: 0.0041\n",
            "Epoch 55/100\n",
            "12/12 [==============================] - 2s 175ms/step - loss: 4.7861e-04 - val_loss: 0.0056\n",
            "Epoch 56/100\n",
            "12/12 [==============================] - 2s 173ms/step - loss: 4.9361e-04 - val_loss: 0.0035\n",
            "Epoch 57/100\n",
            "12/12 [==============================] - 2s 176ms/step - loss: 4.9607e-04 - val_loss: 0.0031\n",
            "Epoch 58/100\n",
            "12/12 [==============================] - 2s 178ms/step - loss: 4.8237e-04 - val_loss: 0.0039\n",
            "Epoch 59/100\n",
            "12/12 [==============================] - 2s 175ms/step - loss: 4.3791e-04 - val_loss: 0.0023\n",
            "Epoch 60/100\n",
            "12/12 [==============================] - 2s 174ms/step - loss: 4.8111e-04 - val_loss: 0.0042\n",
            "Epoch 61/100\n",
            "12/12 [==============================] - 2s 181ms/step - loss: 4.5776e-04 - val_loss: 0.0042\n",
            "Epoch 62/100\n",
            "12/12 [==============================] - 2s 188ms/step - loss: 3.9317e-04 - val_loss: 0.0028\n",
            "Epoch 63/100\n",
            "12/12 [==============================] - 2s 177ms/step - loss: 4.3212e-04 - val_loss: 0.0042\n",
            "Epoch 64/100\n",
            "12/12 [==============================] - 2s 177ms/step - loss: 3.9269e-04 - val_loss: 0.0038\n",
            "Epoch 65/100\n",
            "12/12 [==============================] - 2s 176ms/step - loss: 4.1396e-04 - val_loss: 0.0030\n",
            "Epoch 66/100\n",
            "12/12 [==============================] - 2s 184ms/step - loss: 4.5195e-04 - val_loss: 0.0049\n",
            "Epoch 67/100\n",
            "12/12 [==============================] - 2s 189ms/step - loss: 4.4554e-04 - val_loss: 0.0019\n",
            "Epoch 68/100\n",
            "12/12 [==============================] - 2s 178ms/step - loss: 3.9272e-04 - val_loss: 0.0050\n",
            "Epoch 69/100\n",
            "12/12 [==============================] - 2s 182ms/step - loss: 4.5664e-04 - val_loss: 0.0013\n",
            "Epoch 70/100\n",
            "12/12 [==============================] - 2s 177ms/step - loss: 4.2132e-04 - val_loss: 0.0037\n",
            "Epoch 71/100\n",
            "12/12 [==============================] - 2s 181ms/step - loss: 3.8272e-04 - val_loss: 0.0038\n",
            "Epoch 72/100\n",
            "12/12 [==============================] - 2s 178ms/step - loss: 4.0759e-04 - val_loss: 0.0014\n",
            "Epoch 73/100\n",
            "12/12 [==============================] - 2s 180ms/step - loss: 4.9038e-04 - val_loss: 0.0033\n",
            "Epoch 74/100\n",
            "12/12 [==============================] - 2s 178ms/step - loss: 3.2772e-04 - val_loss: 0.0019\n",
            "Epoch 75/100\n",
            "12/12 [==============================] - 2s 188ms/step - loss: 3.2656e-04 - val_loss: 0.0052\n",
            "Epoch 76/100\n",
            "12/12 [==============================] - 2s 177ms/step - loss: 4.5121e-04 - val_loss: 0.0020\n",
            "Epoch 77/100\n",
            "12/12 [==============================] - 2s 188ms/step - loss: 3.4042e-04 - val_loss: 0.0035\n",
            "Epoch 78/100\n",
            "12/12 [==============================] - 2s 179ms/step - loss: 3.0846e-04 - val_loss: 0.0014\n",
            "Epoch 79/100\n",
            "12/12 [==============================] - 2s 182ms/step - loss: 3.3950e-04 - val_loss: 0.0021\n",
            "Epoch 80/100\n",
            "12/12 [==============================] - 2s 176ms/step - loss: 2.9846e-04 - val_loss: 0.0022\n",
            "Epoch 81/100\n",
            "12/12 [==============================] - 2s 178ms/step - loss: 3.0829e-04 - val_loss: 0.0040\n",
            "Epoch 82/100\n",
            "12/12 [==============================] - 2s 174ms/step - loss: 3.4868e-04 - val_loss: 0.0022\n",
            "Epoch 83/100\n",
            "12/12 [==============================] - 2s 196ms/step - loss: 2.6827e-04 - val_loss: 0.0012\n",
            "Epoch 84/100\n",
            "12/12 [==============================] - 2s 175ms/step - loss: 3.1953e-04 - val_loss: 0.0017\n",
            "Epoch 85/100\n",
            "12/12 [==============================] - 2s 182ms/step - loss: 2.5255e-04 - val_loss: 0.0016\n",
            "Epoch 86/100\n",
            "12/12 [==============================] - 2s 175ms/step - loss: 2.8161e-04 - val_loss: 0.0021\n",
            "Epoch 87/100\n",
            "12/12 [==============================] - 2s 177ms/step - loss: 2.8086e-04 - val_loss: 0.0025\n",
            "Epoch 88/100\n",
            "12/12 [==============================] - 2s 177ms/step - loss: 2.5238e-04 - val_loss: 0.0018\n",
            "Epoch 89/100\n",
            "12/12 [==============================] - 2s 185ms/step - loss: 2.4511e-04 - val_loss: 0.0020\n",
            "Epoch 90/100\n",
            "12/12 [==============================] - 2s 174ms/step - loss: 2.1814e-04 - val_loss: 0.0030\n",
            "Epoch 91/100\n",
            "12/12 [==============================] - 2s 178ms/step - loss: 2.8962e-04 - val_loss: 0.0024\n",
            "Epoch 92/100\n",
            "12/12 [==============================] - 2s 187ms/step - loss: 2.5549e-04 - val_loss: 0.0020\n",
            "Epoch 93/100\n",
            "12/12 [==============================] - 2s 181ms/step - loss: 2.3036e-04 - val_loss: 0.0052\n",
            "Epoch 94/100\n",
            "12/12 [==============================] - 2s 184ms/step - loss: 3.5051e-04 - val_loss: 0.0023\n",
            "Epoch 95/100\n",
            "12/12 [==============================] - 2s 184ms/step - loss: 2.2503e-04 - val_loss: 0.0017\n",
            "Epoch 96/100\n",
            "12/12 [==============================] - 2s 182ms/step - loss: 2.2585e-04 - val_loss: 0.0017\n",
            "Epoch 97/100\n",
            "12/12 [==============================] - 2s 184ms/step - loss: 2.3722e-04 - val_loss: 0.0021\n",
            "Epoch 98/100\n",
            "12/12 [==============================] - 2s 195ms/step - loss: 2.3240e-04 - val_loss: 0.0014\n",
            "Epoch 99/100\n",
            "12/12 [==============================] - 2s 180ms/step - loss: 2.6143e-04 - val_loss: 0.0011\n",
            "Epoch 100/100\n",
            "12/12 [==============================] - 2s 194ms/step - loss: 2.5710e-04 - val_loss: 0.0016\n"
          ],
          "name": "stdout"
        },
        {
          "output_type": "execute_result",
          "data": {
            "text/plain": [
              "<tensorflow.python.keras.callbacks.History at 0x7f6ac7bbc710>"
            ]
          },
          "metadata": {
            "tags": []
          },
          "execution_count": 41
        }
      ]
    },
    {
      "cell_type": "code",
      "metadata": {
        "id": "5LHVdIkSJNix"
      },
      "source": [
        "### Lets Do the prediction and check performance metrics\r\n",
        "train_predict=model.predict(X_train)\r\n",
        "test_predict=model.predict(X_test)\r\n"
      ],
      "execution_count": 44,
      "outputs": []
    },
    {
      "cell_type": "code",
      "metadata": {
        "id": "fwCvHBkGJNl4"
      },
      "source": [
        "##Transformback to original form\r\n",
        "train_predict=scaler.inverse_transform(train_predict)\r\n",
        "test_predict=scaler.inverse_transform(test_predict)"
      ],
      "execution_count": 45,
      "outputs": []
    },
    {
      "cell_type": "code",
      "metadata": {
        "colab": {
          "base_uri": "https://localhost:8080/"
        },
        "id": "45b66lvoJNoc",
        "outputId": "151aa7ec-c0cb-40b3-d159-2a8a85180919"
      },
      "source": [
        "### Calculate RMSE performance metrics\r\n",
        "import math\r\n",
        "from sklearn.metrics import mean_squared_error\r\n",
        "math.sqrt(mean_squared_error(y_train,train_predict))"
      ],
      "execution_count": 46,
      "outputs": [
        {
          "output_type": "execute_result",
          "data": {
            "text/plain": [
              "981.971127616181"
            ]
          },
          "metadata": {
            "tags": []
          },
          "execution_count": 46
        }
      ]
    },
    {
      "cell_type": "code",
      "metadata": {
        "colab": {
          "base_uri": "https://localhost:8080/"
        },
        "id": "QxG8c-bsJVee",
        "outputId": "cbe21bf2-7bac-4d38-856d-e578934708b5"
      },
      "source": [
        "### Test Data RMSE\r\n",
        "math.sqrt(mean_squared_error(ytest,test_predict))"
      ],
      "execution_count": 47,
      "outputs": [
        {
          "output_type": "execute_result",
          "data": {
            "text/plain": [
              "1395.2381684510165"
            ]
          },
          "metadata": {
            "tags": []
          },
          "execution_count": 47
        }
      ]
    },
    {
      "cell_type": "code",
      "metadata": {
        "colab": {
          "base_uri": "https://localhost:8080/",
          "height": 282
        },
        "id": "2yfrmdd-JX_Z",
        "outputId": "3ee82d44-6f10-4d5a-be20-01c8dafbb906"
      },
      "source": [
        "### Plotting \r\n",
        "# shift train predictions for plotting\r\n",
        "look_back=100\r\n",
        "trainPredictPlot = np.empty_like(df1)\r\n",
        "trainPredictPlot[:, :] = np.nan\r\n",
        "trainPredictPlot[look_back:len(train_predict)+look_back, :] = train_predict\r\n",
        "\r\n",
        "# shift test predictions for plotting\r\n",
        "testPredictPlot = np.empty_like(df1)\r\n",
        "testPredictPlot[:, :] = np.nan\r\n",
        "testPredictPlot[len(train_predict)+(look_back*2)+1:len(df1)-1, :] = test_predict\r\n",
        "\r\n",
        "# plot baseline and predictions\r\n",
        "plt.plot(scaler.inverse_transform(df1))\r\n",
        "plt.plot(trainPredictPlot)\r\n",
        "plt.plot(testPredictPlot)\r\n",
        "plt.legend()\r\n",
        "plt.show()"
      ],
      "execution_count": 51,
      "outputs": [
        {
          "output_type": "stream",
          "text": [
            "No handles with labels found to put in legend.\n"
          ],
          "name": "stderr"
        },
        {
          "output_type": "display_data",
          "data": {
            "image/png": "[encoded data removed]",
            "text/plain": [
              "<Figure size 432x288 with 1 Axes>"
            ]
          },
          "metadata": {
            "tags": [],
            "needs_background": "light"
          }
        }
      ]
    },
    {
      "cell_type": "code",
      "metadata": {
        "colab": {
          "base_uri": "https://localhost:8080/"
        },
        "id": "io2z152TUJLn",
        "outputId": "5f01a957-8a20-45d1-d7c9-68d2c4578902"
      },
      "source": [
        "len(test_data)"
      ],
      "execution_count": 52,
      "outputs": [
        {
          "output_type": "execute_result",
          "data": {
            "text/plain": [
              "440"
            ]
          },
          "metadata": {
            "tags": []
          },
          "execution_count": 52
        }
      ]
    },
    {
      "cell_type": "code",
      "metadata": {
        "colab": {
          "base_uri": "https://localhost:8080/"
        },
        "id": "scMzdsVtU0ea",
        "outputId": "4563ce90-1b26-47b4-e9e1-48aa224e5567"
      },
      "source": [
        "test_data.shape"
      ],
      "execution_count": 54,
      "outputs": [
        {
          "output_type": "execute_result",
          "data": {
            "text/plain": [
              "(440, 1)"
            ]
          },
          "metadata": {
            "tags": []
          },
          "execution_count": 54
        }
      ]
    },
    {
      "cell_type": "code",
      "metadata": {
        "colab": {
          "base_uri": "https://localhost:8080/"
        },
        "id": "ukRv9_oYUJPt",
        "outputId": "42b599a2-8b82-4e52-bee1-1a0bcd6f335e"
      },
      "source": [
        "x_input=test_data[340:].reshape(1,-1)\r\n",
        "x_input.shape"
      ],
      "execution_count": 89,
      "outputs": [
        {
          "output_type": "execute_result",
          "data": {
            "text/plain": [
              "(1, 100)"
            ]
          },
          "metadata": {
            "tags": []
          },
          "execution_count": 89
        }
      ]
    },
    {
      "cell_type": "code",
      "metadata": {
        "id": "LQWzYDg-UJSz"
      },
      "source": [
        "temp_input=list(x_input)\r\n",
        "# temp_input"
      ],
      "execution_count": 90,
      "outputs": []
    },
    {
      "cell_type": "code",
      "metadata": {
        "id": "JkgJ4_lTUJVP"
      },
      "source": [
        "temp_input=temp_input[0].tolist()"
      ],
      "execution_count": 91,
      "outputs": []
    },
    {
      "cell_type": "code",
      "metadata": {
        "id": "fKIV_g_4VdVb"
      },
      "source": [
        "# temp_input"
      ],
      "execution_count": 92,
      "outputs": []
    },
    {
      "cell_type": "code",
      "metadata": {
        "colab": {
          "base_uri": "https://localhost:8080/"
        },
        "id": "sdI3RO1rbPaM",
        "outputId": "d1f8b76d-6b8a-48fc-ba83-28f256a707d9"
      },
      "source": [
        "len(temp_input)"
      ],
      "execution_count": 93,
      "outputs": [
        {
          "output_type": "execute_result",
          "data": {
            "text/plain": [
              "100"
            ]
          },
          "metadata": {
            "tags": []
          },
          "execution_count": 93
        }
      ]
    },
    {
      "cell_type": "code",
      "metadata": {
        "colab": {
          "base_uri": "https://localhost:8080/"
        },
        "id": "Qu7GFD7YVqRH",
        "outputId": "c75debb2-fff1-446a-ac1e-04f7dfc4481b"
      },
      "source": [
        "# demonstrate prediction for next 10 days\r\n",
        "from numpy import array\r\n",
        "\r\n",
        "lst_output=[]\r\n",
        "n_steps=100\r\n",
        "i=0\r\n",
        "while(i<30):\r\n",
        "    \r\n",
        "    if(len(temp_input)>100):\r\n",
        "        #print(temp_input)\r\n",
        "        x_input=np.array(temp_input[1:])\r\n",
        "        print(\"{} day input {}\".format(i,x_input))\r\n",
        "        x_input=x_input.reshape(1,-1)\r\n",
        "        x_input = x_input.reshape((1, n_steps, 1))\r\n",
        "        #print(x_input)\r\n",
        "        yhat = model.predict(x_input, verbose=0)\r\n",
        "        print(\"{} day output {}\".format(i,yhat))\r\n",
        "        temp_input.extend(yhat[0].tolist())\r\n",
        "        temp_input=temp_input[1:]\r\n",
        "        #print(temp_input)\r\n",
        "        lst_output.extend(yhat.tolist())\r\n",
        "        i=i+1\r\n",
        "    else:\r\n",
        "        x_input = x_input.reshape((1, n_steps,1))\r\n",
        "        yhat = model.predict(x_input, verbose=0)\r\n",
        "        print(yhat[0])\r\n",
        "        temp_input.extend(yhat[0].tolist())\r\n",
        "        print(\"length is\",len(temp_input))\r\n",
        "        lst_output.extend(yhat.tolist())\r\n",
        "        i=i+1\r\n",
        "        \r\n",
        "\r\n",
        "print(lst_output)\r\n"
      ],
      "execution_count": 94,
      "outputs": [
        {
          "output_type": "stream",
          "text": [
            "[0.8506261]\n",
            "length is 101\n",
            "1 day input [0.7024911  0.69515318 0.68697887 0.69442888 0.7172704  0.71243307\n",
            " 0.71382132 0.70021471 0.7228924  0.73309305 0.72384952 0.73268778\n",
            " 0.76771317 0.75816785 0.78767472 0.7865279  0.79323636 0.810499\n",
            " 0.84857682 0.83301286 0.84170453 0.83288352 0.85575953 0.91402309\n",
            " 0.8394885  0.7956852  0.74511309 0.76629905 0.74479405 0.7350504\n",
            " 0.73380873 0.75291663 0.73520561 0.71332983 0.68268476 0.65782553\n",
            " 0.68740138 0.64407233 0.65535081 0.66972485 0.68659084 0.69073836\n",
            " 0.69097117 0.70863908 0.681331   0.70512964 0.6770369  0.68294344\n",
            " 0.70505204 0.73030792 0.77681012 0.77899166 0.77588749 0.76817018\n",
            " 0.78013848 0.74702733 0.76541091 0.79764255 0.81662973 0.8387642\n",
            " 0.79517646 0.80708441 0.73151509 0.77516318 0.82152742 0.82585602\n",
            " 0.8467057  0.93200141 0.94428013 0.94288326 0.94396109 0.92446518\n",
            " 0.93508834 0.93261363 0.95605012 0.95980961 0.95012632 0.92997508\n",
            " 0.94475438 0.92601726 0.91969683 0.94903124 0.95123003 0.96999302\n",
            " 0.94201236 0.97422676 0.99996551 0.99894803 1.         0.99266209\n",
            " 0.99186017 0.96218085 0.95459288 0.9601459  0.94142602 0.94807412\n",
            " 0.94396109 0.93094082 0.91637709 0.85062611]\n",
            "1 day output [[0.8078095]]\n",
            "2 day input [0.69515318 0.68697887 0.69442888 0.7172704  0.71243307 0.71382132\n",
            " 0.70021471 0.7228924  0.73309305 0.72384952 0.73268778 0.76771317\n",
            " 0.75816785 0.78767472 0.7865279  0.79323636 0.810499   0.84857682\n",
            " 0.83301286 0.84170453 0.83288352 0.85575953 0.91402309 0.8394885\n",
            " 0.7956852  0.74511309 0.76629905 0.74479405 0.7350504  0.73380873\n",
            " 0.75291663 0.73520561 0.71332983 0.68268476 0.65782553 0.68740138\n",
            " 0.64407233 0.65535081 0.66972485 0.68659084 0.69073836 0.69097117\n",
            " 0.70863908 0.681331   0.70512964 0.6770369  0.68294344 0.70505204\n",
            " 0.73030792 0.77681012 0.77899166 0.77588749 0.76817018 0.78013848\n",
            " 0.74702733 0.76541091 0.79764255 0.81662973 0.8387642  0.79517646\n",
            " 0.80708441 0.73151509 0.77516318 0.82152742 0.82585602 0.8467057\n",
            " 0.93200141 0.94428013 0.94288326 0.94396109 0.92446518 0.93508834\n",
            " 0.93261363 0.95605012 0.95980961 0.95012632 0.92997508 0.94475438\n",
            " 0.92601726 0.91969683 0.94903124 0.95123003 0.96999302 0.94201236\n",
            " 0.97422676 0.99996551 0.99894803 1.         0.99266209 0.99186017\n",
            " 0.96218085 0.95459288 0.9601459  0.94142602 0.94807412 0.94396109\n",
            " 0.93094082 0.91637709 0.85062611 0.80780947]\n",
            "2 day output [[0.76364064]]\n",
            "3 day input [0.68697887 0.69442888 0.7172704  0.71243307 0.71382132 0.70021471\n",
            " 0.7228924  0.73309305 0.72384952 0.73268778 0.76771317 0.75816785\n",
            " 0.78767472 0.7865279  0.79323636 0.810499   0.84857682 0.83301286\n",
            " 0.84170453 0.83288352 0.85575953 0.91402309 0.8394885  0.7956852\n",
            " 0.74511309 0.76629905 0.74479405 0.7350504  0.73380873 0.75291663\n",
            " 0.73520561 0.71332983 0.68268476 0.65782553 0.68740138 0.64407233\n",
            " 0.65535081 0.66972485 0.68659084 0.69073836 0.69097117 0.70863908\n",
            " 0.681331   0.70512964 0.6770369  0.68294344 0.70505204 0.73030792\n",
            " 0.77681012 0.77899166 0.77588749 0.76817018 0.78013848 0.74702733\n",
            " 0.76541091 0.79764255 0.81662973 0.8387642  0.79517646 0.80708441\n",
            " 0.73151509 0.77516318 0.82152742 0.82585602 0.8467057  0.93200141\n",
            " 0.94428013 0.94288326 0.94396109 0.92446518 0.93508834 0.93261363\n",
            " 0.95605012 0.95980961 0.95012632 0.92997508 0.94475438 0.92601726\n",
            " 0.91969683 0.94903124 0.95123003 0.96999302 0.94201236 0.97422676\n",
            " 0.99996551 0.99894803 1.         0.99266209 0.99186017 0.96218085\n",
            " 0.95459288 0.9601459  0.94142602 0.94807412 0.94396109 0.93094082\n",
            " 0.91637709 0.85062611 0.80780947 0.76364064]\n",
            "3 day output [[0.7294215]]\n",
            "4 day input [0.69442888 0.7172704  0.71243307 0.71382132 0.70021471 0.7228924\n",
            " 0.73309305 0.72384952 0.73268778 0.76771317 0.75816785 0.78767472\n",
            " 0.7865279  0.79323636 0.810499   0.84857682 0.83301286 0.84170453\n",
            " 0.83288352 0.85575953 0.91402309 0.8394885  0.7956852  0.74511309\n",
            " 0.76629905 0.74479405 0.7350504  0.73380873 0.75291663 0.73520561\n",
            " 0.71332983 0.68268476 0.65782553 0.68740138 0.64407233 0.65535081\n",
            " 0.66972485 0.68659084 0.69073836 0.69097117 0.70863908 0.681331\n",
            " 0.70512964 0.6770369  0.68294344 0.70505204 0.73030792 0.77681012\n",
            " 0.77899166 0.77588749 0.76817018 0.78013848 0.74702733 0.76541091\n",
            " 0.79764255 0.81662973 0.8387642  0.79517646 0.80708441 0.73151509\n",
            " 0.77516318 0.82152742 0.82585602 0.8467057  0.93200141 0.94428013\n",
            " 0.94288326 0.94396109 0.92446518 0.93508834 0.93261363 0.95605012\n",
            " 0.95980961 0.95012632 0.92997508 0.94475438 0.92601726 0.91969683\n",
            " 0.94903124 0.95123003 0.96999302 0.94201236 0.97422676 0.99996551\n",
            " 0.99894803 1.         0.99266209 0.99186017 0.96218085 0.95459288\n",
            " 0.9601459  0.94142602 0.94807412 0.94396109 0.93094082 0.91637709\n",
            " 0.85062611 0.80780947 0.76364064 0.7294215 ]\n",
            "4 day output [[0.70748717]]\n",
            "5 day input [0.7172704  0.71243307 0.71382132 0.70021471 0.7228924  0.73309305\n",
            " 0.72384952 0.73268778 0.76771317 0.75816785 0.78767472 0.7865279\n",
            " 0.79323636 0.810499   0.84857682 0.83301286 0.84170453 0.83288352\n",
            " 0.85575953 0.91402309 0.8394885  0.7956852  0.74511309 0.76629905\n",
            " 0.74479405 0.7350504  0.73380873 0.75291663 0.73520561 0.71332983\n",
            " 0.68268476 0.65782553 0.68740138 0.64407233 0.65535081 0.66972485\n",
            " 0.68659084 0.69073836 0.69097117 0.70863908 0.681331   0.70512964\n",
            " 0.6770369  0.68294344 0.70505204 0.73030792 0.77681012 0.77899166\n",
            " 0.77588749 0.76817018 0.78013848 0.74702733 0.76541091 0.79764255\n",
            " 0.81662973 0.8387642  0.79517646 0.80708441 0.73151509 0.77516318\n",
            " 0.82152742 0.82585602 0.8467057  0.93200141 0.94428013 0.94288326\n",
            " 0.94396109 0.92446518 0.93508834 0.93261363 0.95605012 0.95980961\n",
            " 0.95012632 0.92997508 0.94475438 0.92601726 0.91969683 0.94903124\n",
            " 0.95123003 0.96999302 0.94201236 0.97422676 0.99996551 0.99894803\n",
            " 1.         0.99266209 0.99186017 0.96218085 0.95459288 0.9601459\n",
            " 0.94142602 0.94807412 0.94396109 0.93094082 0.91637709 0.85062611\n",
            " 0.80780947 0.76364064 0.7294215  0.70748717]\n",
            "5 day output [[0.69657564]]\n",
            "6 day input [0.71243307 0.71382132 0.70021471 0.7228924  0.73309305 0.72384952\n",
            " 0.73268778 0.76771317 0.75816785 0.78767472 0.7865279  0.79323636\n",
            " 0.810499   0.84857682 0.83301286 0.84170453 0.83288352 0.85575953\n",
            " 0.91402309 0.8394885  0.7956852  0.74511309 0.76629905 0.74479405\n",
            " 0.7350504  0.73380873 0.75291663 0.73520561 0.71332983 0.68268476\n",
            " 0.65782553 0.68740138 0.64407233 0.65535081 0.66972485 0.68659084\n",
            " 0.69073836 0.69097117 0.70863908 0.681331   0.70512964 0.6770369\n",
            " 0.68294344 0.70505204 0.73030792 0.77681012 0.77899166 0.77588749\n",
            " 0.76817018 0.78013848 0.74702733 0.76541091 0.79764255 0.81662973\n",
            " 0.8387642  0.79517646 0.80708441 0.73151509 0.77516318 0.82152742\n",
            " 0.82585602 0.8467057  0.93200141 0.94428013 0.94288326 0.94396109\n",
            " 0.92446518 0.93508834 0.93261363 0.95605012 0.95980961 0.95012632\n",
            " 0.92997508 0.94475438 0.92601726 0.91969683 0.94903124 0.95123003\n",
            " 0.96999302 0.94201236 0.97422676 0.99996551 0.99894803 1.\n",
            " 0.99266209 0.99186017 0.96218085 0.95459288 0.9601459  0.94142602\n",
            " 0.94807412 0.94396109 0.93094082 0.91637709 0.85062611 0.80780947\n",
            " 0.76364064 0.7294215  0.70748717 0.69657564]\n",
            "6 day output [[0.69351465]]\n",
            "7 day input [0.71382132 0.70021471 0.7228924  0.73309305 0.72384952 0.73268778\n",
            " 0.76771317 0.75816785 0.78767472 0.7865279  0.79323636 0.810499\n",
            " 0.84857682 0.83301286 0.84170453 0.83288352 0.85575953 0.91402309\n",
            " 0.8394885  0.7956852  0.74511309 0.76629905 0.74479405 0.7350504\n",
            " 0.73380873 0.75291663 0.73520561 0.71332983 0.68268476 0.65782553\n",
            " 0.68740138 0.64407233 0.65535081 0.66972485 0.68659084 0.69073836\n",
            " 0.69097117 0.70863908 0.681331   0.70512964 0.6770369  0.68294344\n",
            " 0.70505204 0.73030792 0.77681012 0.77899166 0.77588749 0.76817018\n",
            " 0.78013848 0.74702733 0.76541091 0.79764255 0.81662973 0.8387642\n",
            " 0.79517646 0.80708441 0.73151509 0.77516318 0.82152742 0.82585602\n",
            " 0.8467057  0.93200141 0.94428013 0.94288326 0.94396109 0.92446518\n",
            " 0.93508834 0.93261363 0.95605012 0.95980961 0.95012632 0.92997508\n",
            " 0.94475438 0.92601726 0.91969683 0.94903124 0.95123003 0.96999302\n",
            " 0.94201236 0.97422676 0.99996551 0.99894803 1.         0.99266209\n",
            " 0.99186017 0.96218085 0.95459288 0.9601459  0.94142602 0.94807412\n",
            " 0.94396109 0.93094082 0.91637709 0.85062611 0.80780947 0.76364064\n",
            " 0.7294215  0.70748717 0.69657564 0.69351465]\n",
            "7 day output [[0.69444066]]\n",
            "8 day input [0.70021471 0.7228924  0.73309305 0.72384952 0.73268778 0.76771317\n",
            " 0.75816785 0.78767472 0.7865279  0.79323636 0.810499   0.84857682\n",
            " 0.83301286 0.84170453 0.83288352 0.85575953 0.91402309 0.8394885\n",
            " 0.7956852  0.74511309 0.76629905 0.74479405 0.7350504  0.73380873\n",
            " 0.75291663 0.73520561 0.71332983 0.68268476 0.65782553 0.68740138\n",
            " 0.64407233 0.65535081 0.66972485 0.68659084 0.69073836 0.69097117\n",
            " 0.70863908 0.681331   0.70512964 0.6770369  0.68294344 0.70505204\n",
            " 0.73030792 0.77681012 0.77899166 0.77588749 0.76817018 0.78013848\n",
            " 0.74702733 0.76541091 0.79764255 0.81662973 0.8387642  0.79517646\n",
            " 0.80708441 0.73151509 0.77516318 0.82152742 0.82585602 0.8467057\n",
            " 0.93200141 0.94428013 0.94288326 0.94396109 0.92446518 0.93508834\n",
            " 0.93261363 0.95605012 0.95980961 0.95012632 0.92997508 0.94475438\n",
            " 0.92601726 0.91969683 0.94903124 0.95123003 0.96999302 0.94201236\n",
            " 0.97422676 0.99996551 0.99894803 1.         0.99266209 0.99186017\n",
            " 0.96218085 0.95459288 0.9601459  0.94142602 0.94807412 0.94396109\n",
            " 0.93094082 0.91637709 0.85062611 0.80780947 0.76364064 0.7294215\n",
            " 0.70748717 0.69657564 0.69351465 0.69444066]\n",
            "8 day output [[0.6957645]]\n",
            "9 day input [0.7228924  0.73309305 0.72384952 0.73268778 0.76771317 0.75816785\n",
            " 0.78767472 0.7865279  0.79323636 0.810499   0.84857682 0.83301286\n",
            " 0.84170453 0.83288352 0.85575953 0.91402309 0.8394885  0.7956852\n",
            " 0.74511309 0.76629905 0.74479405 0.7350504  0.73380873 0.75291663\n",
            " 0.73520561 0.71332983 0.68268476 0.65782553 0.68740138 0.64407233\n",
            " 0.65535081 0.66972485 0.68659084 0.69073836 0.69097117 0.70863908\n",
            " 0.681331   0.70512964 0.6770369  0.68294344 0.70505204 0.73030792\n",
            " 0.77681012 0.77899166 0.77588749 0.76817018 0.78013848 0.74702733\n",
            " 0.76541091 0.79764255 0.81662973 0.8387642  0.79517646 0.80708441\n",
            " 0.73151509 0.77516318 0.82152742 0.82585602 0.8467057  0.93200141\n",
            " 0.94428013 0.94288326 0.94396109 0.92446518 0.93508834 0.93261363\n",
            " 0.95605012 0.95980961 0.95012632 0.92997508 0.94475438 0.92601726\n",
            " 0.91969683 0.94903124 0.95123003 0.96999302 0.94201236 0.97422676\n",
            " 0.99996551 0.99894803 1.         0.99266209 0.99186017 0.96218085\n",
            " 0.95459288 0.9601459  0.94142602 0.94807412 0.94396109 0.93094082\n",
            " 0.91637709 0.85062611 0.80780947 0.76364064 0.7294215  0.70748717\n",
            " 0.69657564 0.69351465 0.69444066 0.69576448]\n",
            "9 day output [[0.69477755]]\n",
            "10 day input [0.73309305 0.72384952 0.73268778 0.76771317 0.75816785 0.78767472\n",
            " 0.7865279  0.79323636 0.810499   0.84857682 0.83301286 0.84170453\n",
            " 0.83288352 0.85575953 0.91402309 0.8394885  0.7956852  0.74511309\n",
            " 0.76629905 0.74479405 0.7350504  0.73380873 0.75291663 0.73520561\n",
            " 0.71332983 0.68268476 0.65782553 0.68740138 0.64407233 0.65535081\n",
            " 0.66972485 0.68659084 0.69073836 0.69097117 0.70863908 0.681331\n",
            " 0.70512964 0.6770369  0.68294344 0.70505204 0.73030792 0.77681012\n",
            " 0.77899166 0.77588749 0.76817018 0.78013848 0.74702733 0.76541091\n",
            " 0.79764255 0.81662973 0.8387642  0.79517646 0.80708441 0.73151509\n",
            " 0.77516318 0.82152742 0.82585602 0.8467057  0.93200141 0.94428013\n",
            " 0.94288326 0.94396109 0.92446518 0.93508834 0.93261363 0.95605012\n",
            " 0.95980961 0.95012632 0.92997508 0.94475438 0.92601726 0.91969683\n",
            " 0.94903124 0.95123003 0.96999302 0.94201236 0.97422676 0.99996551\n",
            " 0.99894803 1.         0.99266209 0.99186017 0.96218085 0.95459288\n",
            " 0.9601459  0.94142602 0.94807412 0.94396109 0.93094082 0.91637709\n",
            " 0.85062611 0.80780947 0.76364064 0.7294215  0.70748717 0.69657564\n",
            " 0.69351465 0.69444066 0.69576448 0.69477755]\n",
            "10 day output [[0.6899207]]\n",
            "11 day input [0.72384952 0.73268778 0.76771317 0.75816785 0.78767472 0.7865279\n",
            " 0.79323636 0.810499   0.84857682 0.83301286 0.84170453 0.83288352\n",
            " 0.85575953 0.91402309 0.8394885  0.7956852  0.74511309 0.76629905\n",
            " 0.74479405 0.7350504  0.73380873 0.75291663 0.73520561 0.71332983\n",
            " 0.68268476 0.65782553 0.68740138 0.64407233 0.65535081 0.66972485\n",
            " 0.68659084 0.69073836 0.69097117 0.70863908 0.681331   0.70512964\n",
            " 0.6770369  0.68294344 0.70505204 0.73030792 0.77681012 0.77899166\n",
            " 0.77588749 0.76817018 0.78013848 0.74702733 0.76541091 0.79764255\n",
            " 0.81662973 0.8387642  0.79517646 0.80708441 0.73151509 0.77516318\n",
            " 0.82152742 0.82585602 0.8467057  0.93200141 0.94428013 0.94288326\n",
            " 0.94396109 0.92446518 0.93508834 0.93261363 0.95605012 0.95980961\n",
            " 0.95012632 0.92997508 0.94475438 0.92601726 0.91969683 0.94903124\n",
            " 0.95123003 0.96999302 0.94201236 0.97422676 0.99996551 0.99894803\n",
            " 1.         0.99266209 0.99186017 0.96218085 0.95459288 0.9601459\n",
            " 0.94142602 0.94807412 0.94396109 0.93094082 0.91637709 0.85062611\n",
            " 0.80780947 0.76364064 0.7294215  0.70748717 0.69657564 0.69351465\n",
            " 0.69444066 0.69576448 0.69477755 0.68992072]\n",
            "11 day output [[0.68078786]]\n",
            "12 day input [0.73268778 0.76771317 0.75816785 0.78767472 0.7865279  0.79323636\n",
            " 0.810499   0.84857682 0.83301286 0.84170453 0.83288352 0.85575953\n",
            " 0.91402309 0.8394885  0.7956852  0.74511309 0.76629905 0.74479405\n",
            " 0.7350504  0.73380873 0.75291663 0.73520561 0.71332983 0.68268476\n",
            " 0.65782553 0.68740138 0.64407233 0.65535081 0.66972485 0.68659084\n",
            " 0.69073836 0.69097117 0.70863908 0.681331   0.70512964 0.6770369\n",
            " 0.68294344 0.70505204 0.73030792 0.77681012 0.77899166 0.77588749\n",
            " 0.76817018 0.78013848 0.74702733 0.76541091 0.79764255 0.81662973\n",
            " 0.8387642  0.79517646 0.80708441 0.73151509 0.77516318 0.82152742\n",
            " 0.82585602 0.8467057  0.93200141 0.94428013 0.94288326 0.94396109\n",
            " 0.92446518 0.93508834 0.93261363 0.95605012 0.95980961 0.95012632\n",
            " 0.92997508 0.94475438 0.92601726 0.91969683 0.94903124 0.95123003\n",
            " 0.96999302 0.94201236 0.97422676 0.99996551 0.99894803 1.\n",
            " 0.99266209 0.99186017 0.96218085 0.95459288 0.9601459  0.94142602\n",
            " 0.94807412 0.94396109 0.93094082 0.91637709 0.85062611 0.80780947\n",
            " 0.76364064 0.7294215  0.70748717 0.69657564 0.69351465 0.69444066\n",
            " 0.69576448 0.69477755 0.68992072 0.68078786]\n",
            "12 day output [[0.6679399]]\n",
            "13 day input [0.76771317 0.75816785 0.78767472 0.7865279  0.79323636 0.810499\n",
            " 0.84857682 0.83301286 0.84170453 0.83288352 0.85575953 0.91402309\n",
            " 0.8394885  0.7956852  0.74511309 0.76629905 0.74479405 0.7350504\n",
            " 0.73380873 0.75291663 0.73520561 0.71332983 0.68268476 0.65782553\n",
            " 0.68740138 0.64407233 0.65535081 0.66972485 0.68659084 0.69073836\n",
            " 0.69097117 0.70863908 0.681331   0.70512964 0.6770369  0.68294344\n",
            " 0.70505204 0.73030792 0.77681012 0.77899166 0.77588749 0.76817018\n",
            " 0.78013848 0.74702733 0.76541091 0.79764255 0.81662973 0.8387642\n",
            " 0.79517646 0.80708441 0.73151509 0.77516318 0.82152742 0.82585602\n",
            " 0.8467057  0.93200141 0.94428013 0.94288326 0.94396109 0.92446518\n",
            " 0.93508834 0.93261363 0.95605012 0.95980961 0.95012632 0.92997508\n",
            " 0.94475438 0.92601726 0.91969683 0.94903124 0.95123003 0.96999302\n",
            " 0.94201236 0.97422676 0.99996551 0.99894803 1.         0.99266209\n",
            " 0.99186017 0.96218085 0.95459288 0.9601459  0.94142602 0.94807412\n",
            " 0.94396109 0.93094082 0.91637709 0.85062611 0.80780947 0.76364064\n",
            " 0.7294215  0.70748717 0.69657564 0.69351465 0.69444066 0.69576448\n",
            " 0.69477755 0.68992072 0.68078786 0.6679399 ]\n",
            "13 day output [[0.65259254]]\n",
            "14 day input [0.75816785 0.78767472 0.7865279  0.79323636 0.810499   0.84857682\n",
            " 0.83301286 0.84170453 0.83288352 0.85575953 0.91402309 0.8394885\n",
            " 0.7956852  0.74511309 0.76629905 0.74479405 0.7350504  0.73380873\n",
            " 0.75291663 0.73520561 0.71332983 0.68268476 0.65782553 0.68740138\n",
            " 0.64407233 0.65535081 0.66972485 0.68659084 0.69073836 0.69097117\n",
            " 0.70863908 0.681331   0.70512964 0.6770369  0.68294344 0.70505204\n",
            " 0.73030792 0.77681012 0.77899166 0.77588749 0.76817018 0.78013848\n",
            " 0.74702733 0.76541091 0.79764255 0.81662973 0.8387642  0.79517646\n",
            " 0.80708441 0.73151509 0.77516318 0.82152742 0.82585602 0.8467057\n",
            " 0.93200141 0.94428013 0.94288326 0.94396109 0.92446518 0.93508834\n",
            " 0.93261363 0.95605012 0.95980961 0.95012632 0.92997508 0.94475438\n",
            " 0.92601726 0.91969683 0.94903124 0.95123003 0.96999302 0.94201236\n",
            " 0.97422676 0.99996551 0.99894803 1.         0.99266209 0.99186017\n",
            " 0.96218085 0.95459288 0.9601459  0.94142602 0.94807412 0.94396109\n",
            " 0.93094082 0.91637709 0.85062611 0.80780947 0.76364064 0.7294215\n",
            " 0.70748717 0.69657564 0.69351465 0.69444066 0.69576448 0.69477755\n",
            " 0.68992072 0.68078786 0.6679399  0.65259254]\n",
            "14 day output [[0.6362534]]\n",
            "15 day input [0.78767472 0.7865279  0.79323636 0.810499   0.84857682 0.83301286\n",
            " 0.84170453 0.83288352 0.85575953 0.91402309 0.8394885  0.7956852\n",
            " 0.74511309 0.76629905 0.74479405 0.7350504  0.73380873 0.75291663\n",
            " 0.73520561 0.71332983 0.68268476 0.65782553 0.68740138 0.64407233\n",
            " 0.65535081 0.66972485 0.68659084 0.69073836 0.69097117 0.70863908\n",
            " 0.681331   0.70512964 0.6770369  0.68294344 0.70505204 0.73030792\n",
            " 0.77681012 0.77899166 0.77588749 0.76817018 0.78013848 0.74702733\n",
            " 0.76541091 0.79764255 0.81662973 0.8387642  0.79517646 0.80708441\n",
            " 0.73151509 0.77516318 0.82152742 0.82585602 0.8467057  0.93200141\n",
            " 0.94428013 0.94288326 0.94396109 0.92446518 0.93508834 0.93261363\n",
            " 0.95605012 0.95980961 0.95012632 0.92997508 0.94475438 0.92601726\n",
            " 0.91969683 0.94903124 0.95123003 0.96999302 0.94201236 0.97422676\n",
            " 0.99996551 0.99894803 1.         0.99266209 0.99186017 0.96218085\n",
            " 0.95459288 0.9601459  0.94142602 0.94807412 0.94396109 0.93094082\n",
            " 0.91637709 0.85062611 0.80780947 0.76364064 0.7294215  0.70748717\n",
            " 0.69657564 0.69351465 0.69444066 0.69576448 0.69477755 0.68992072\n",
            " 0.68078786 0.6679399  0.65259254 0.63625342]\n",
            "15 day output [[0.62037104]]\n",
            "16 day input [0.7865279  0.79323636 0.810499   0.84857682 0.83301286 0.84170453\n",
            " 0.83288352 0.85575953 0.91402309 0.8394885  0.7956852  0.74511309\n",
            " 0.76629905 0.74479405 0.7350504  0.73380873 0.75291663 0.73520561\n",
            " 0.71332983 0.68268476 0.65782553 0.68740138 0.64407233 0.65535081\n",
            " 0.66972485 0.68659084 0.69073836 0.69097117 0.70863908 0.681331\n",
            " 0.70512964 0.6770369  0.68294344 0.70505204 0.73030792 0.77681012\n",
            " 0.77899166 0.77588749 0.76817018 0.78013848 0.74702733 0.76541091\n",
            " 0.79764255 0.81662973 0.8387642  0.79517646 0.80708441 0.73151509\n",
            " 0.77516318 0.82152742 0.82585602 0.8467057  0.93200141 0.94428013\n",
            " 0.94288326 0.94396109 0.92446518 0.93508834 0.93261363 0.95605012\n",
            " 0.95980961 0.95012632 0.92997508 0.94475438 0.92601726 0.91969683\n",
            " 0.94903124 0.95123003 0.96999302 0.94201236 0.97422676 0.99996551\n",
            " 0.99894803 1.         0.99266209 0.99186017 0.96218085 0.95459288\n",
            " 0.9601459  0.94142602 0.94807412 0.94396109 0.93094082 0.91637709\n",
            " 0.85062611 0.80780947 0.76364064 0.7294215  0.70748717 0.69657564\n",
            " 0.69351465 0.69444066 0.69576448 0.69477755 0.68992072 0.68078786\n",
            " 0.6679399  0.65259254 0.63625342 0.62037104]\n",
            "16 day output [[0.60606354]]\n",
            "17 day input [0.79323636 0.810499   0.84857682 0.83301286 0.84170453 0.83288352\n",
            " 0.85575953 0.91402309 0.8394885  0.7956852  0.74511309 0.76629905\n",
            " 0.74479405 0.7350504  0.73380873 0.75291663 0.73520561 0.71332983\n",
            " 0.68268476 0.65782553 0.68740138 0.64407233 0.65535081 0.66972485\n",
            " 0.68659084 0.69073836 0.69097117 0.70863908 0.681331   0.70512964\n",
            " 0.6770369  0.68294344 0.70505204 0.73030792 0.77681012 0.77899166\n",
            " 0.77588749 0.76817018 0.78013848 0.74702733 0.76541091 0.79764255\n",
            " 0.81662973 0.8387642  0.79517646 0.80708441 0.73151509 0.77516318\n",
            " 0.82152742 0.82585602 0.8467057  0.93200141 0.94428013 0.94288326\n",
            " 0.94396109 0.92446518 0.93508834 0.93261363 0.95605012 0.95980961\n",
            " 0.95012632 0.92997508 0.94475438 0.92601726 0.91969683 0.94903124\n",
            " 0.95123003 0.96999302 0.94201236 0.97422676 0.99996551 0.99894803\n",
            " 1.         0.99266209 0.99186017 0.96218085 0.95459288 0.9601459\n",
            " 0.94142602 0.94807412 0.94396109 0.93094082 0.91637709 0.85062611\n",
            " 0.80780947 0.76364064 0.7294215  0.70748717 0.69657564 0.69351465\n",
            " 0.69444066 0.69576448 0.69477755 0.68992072 0.68078786 0.6679399\n",
            " 0.65259254 0.63625342 0.62037104 0.60606354]\n",
            "17 day output [[0.5939668]]\n",
            "18 day input [0.810499   0.84857682 0.83301286 0.84170453 0.83288352 0.85575953\n",
            " 0.91402309 0.8394885  0.7956852  0.74511309 0.76629905 0.74479405\n",
            " 0.7350504  0.73380873 0.75291663 0.73520561 0.71332983 0.68268476\n",
            " 0.65782553 0.68740138 0.64407233 0.65535081 0.66972485 0.68659084\n",
            " 0.69073836 0.69097117 0.70863908 0.681331   0.70512964 0.6770369\n",
            " 0.68294344 0.70505204 0.73030792 0.77681012 0.77899166 0.77588749\n",
            " 0.76817018 0.78013848 0.74702733 0.76541091 0.79764255 0.81662973\n",
            " 0.8387642  0.79517646 0.80708441 0.73151509 0.77516318 0.82152742\n",
            " 0.82585602 0.8467057  0.93200141 0.94428013 0.94288326 0.94396109\n",
            " 0.92446518 0.93508834 0.93261363 0.95605012 0.95980961 0.95012632\n",
            " 0.92997508 0.94475438 0.92601726 0.91969683 0.94903124 0.95123003\n",
            " 0.96999302 0.94201236 0.97422676 0.99996551 0.99894803 1.\n",
            " 0.99266209 0.99186017 0.96218085 0.95459288 0.9601459  0.94142602\n",
            " 0.94807412 0.94396109 0.93094082 0.91637709 0.85062611 0.80780947\n",
            " 0.76364064 0.7294215  0.70748717 0.69657564 0.69351465 0.69444066\n",
            " 0.69576448 0.69477755 0.68992072 0.68078786 0.6679399  0.65259254\n",
            " 0.63625342 0.62037104 0.60606354 0.59396678]\n",
            "18 day output [[0.58421797]]\n",
            "19 day input [0.84857682 0.83301286 0.84170453 0.83288352 0.85575953 0.91402309\n",
            " 0.8394885  0.7956852  0.74511309 0.76629905 0.74479405 0.7350504\n",
            " 0.73380873 0.75291663 0.73520561 0.71332983 0.68268476 0.65782553\n",
            " 0.68740138 0.64407233 0.65535081 0.66972485 0.68659084 0.69073836\n",
            " 0.69097117 0.70863908 0.681331   0.70512964 0.6770369  0.68294344\n",
            " 0.70505204 0.73030792 0.77681012 0.77899166 0.77588749 0.76817018\n",
            " 0.78013848 0.74702733 0.76541091 0.79764255 0.81662973 0.8387642\n",
            " 0.79517646 0.80708441 0.73151509 0.77516318 0.82152742 0.82585602\n",
            " 0.8467057  0.93200141 0.94428013 0.94288326 0.94396109 0.92446518\n",
            " 0.93508834 0.93261363 0.95605012 0.95980961 0.95012632 0.92997508\n",
            " 0.94475438 0.92601726 0.91969683 0.94903124 0.95123003 0.96999302\n",
            " 0.94201236 0.97422676 0.99996551 0.99894803 1.         0.99266209\n",
            " 0.99186017 0.96218085 0.95459288 0.9601459  0.94142602 0.94807412\n",
            " 0.94396109 0.93094082 0.91637709 0.85062611 0.80780947 0.76364064\n",
            " 0.7294215  0.70748717 0.69657564 0.69351465 0.69444066 0.69576448\n",
            " 0.69477755 0.68992072 0.68078786 0.6679399  0.65259254 0.63625342\n",
            " 0.62037104 0.60606354 0.59396678 0.58421797]\n",
            "19 day output [[0.5765486]]\n",
            "20 day input [0.83301286 0.84170453 0.83288352 0.85575953 0.91402309 0.8394885\n",
            " 0.7956852  0.74511309 0.76629905 0.74479405 0.7350504  0.73380873\n",
            " 0.75291663 0.73520561 0.71332983 0.68268476 0.65782553 0.68740138\n",
            " 0.64407233 0.65535081 0.66972485 0.68659084 0.69073836 0.69097117\n",
            " 0.70863908 0.681331   0.70512964 0.6770369  0.68294344 0.70505204\n",
            " 0.73030792 0.77681012 0.77899166 0.77588749 0.76817018 0.78013848\n",
            " 0.74702733 0.76541091 0.79764255 0.81662973 0.8387642  0.79517646\n",
            " 0.80708441 0.73151509 0.77516318 0.82152742 0.82585602 0.8467057\n",
            " 0.93200141 0.94428013 0.94288326 0.94396109 0.92446518 0.93508834\n",
            " 0.93261363 0.95605012 0.95980961 0.95012632 0.92997508 0.94475438\n",
            " 0.92601726 0.91969683 0.94903124 0.95123003 0.96999302 0.94201236\n",
            " 0.97422676 0.99996551 0.99894803 1.         0.99266209 0.99186017\n",
            " 0.96218085 0.95459288 0.9601459  0.94142602 0.94807412 0.94396109\n",
            " 0.93094082 0.91637709 0.85062611 0.80780947 0.76364064 0.7294215\n",
            " 0.70748717 0.69657564 0.69351465 0.69444066 0.69576448 0.69477755\n",
            " 0.68992072 0.68078786 0.6679399  0.65259254 0.63625342 0.62037104\n",
            " 0.60606354 0.59396678 0.58421797 0.57654858]\n",
            "20 day output [[0.5704367]]\n",
            "21 day input [0.84170453 0.83288352 0.85575953 0.91402309 0.8394885  0.7956852\n",
            " 0.74511309 0.76629905 0.74479405 0.7350504  0.73380873 0.75291663\n",
            " 0.73520561 0.71332983 0.68268476 0.65782553 0.68740138 0.64407233\n",
            " 0.65535081 0.66972485 0.68659084 0.69073836 0.69097117 0.70863908\n",
            " 0.681331   0.70512964 0.6770369  0.68294344 0.70505204 0.73030792\n",
            " 0.77681012 0.77899166 0.77588749 0.76817018 0.78013848 0.74702733\n",
            " 0.76541091 0.79764255 0.81662973 0.8387642  0.79517646 0.80708441\n",
            " 0.73151509 0.77516318 0.82152742 0.82585602 0.8467057  0.93200141\n",
            " 0.94428013 0.94288326 0.94396109 0.92446518 0.93508834 0.93261363\n",
            " 0.95605012 0.95980961 0.95012632 0.92997508 0.94475438 0.92601726\n",
            " 0.91969683 0.94903124 0.95123003 0.96999302 0.94201236 0.97422676\n",
            " 0.99996551 0.99894803 1.         0.99266209 0.99186017 0.96218085\n",
            " 0.95459288 0.9601459  0.94142602 0.94807412 0.94396109 0.93094082\n",
            " 0.91637709 0.85062611 0.80780947 0.76364064 0.7294215  0.70748717\n",
            " 0.69657564 0.69351465 0.69444066 0.69576448 0.69477755 0.68992072\n",
            " 0.68078786 0.6679399  0.65259254 0.63625342 0.62037104 0.60606354\n",
            " 0.59396678 0.58421797 0.57654858 0.57043672]\n",
            "21 day output [[0.5652681]]\n",
            "22 day input [0.83288352 0.85575953 0.91402309 0.8394885  0.7956852  0.74511309\n",
            " 0.76629905 0.74479405 0.7350504  0.73380873 0.75291663 0.73520561\n",
            " 0.71332983 0.68268476 0.65782553 0.68740138 0.64407233 0.65535081\n",
            " 0.66972485 0.68659084 0.69073836 0.69097117 0.70863908 0.681331\n",
            " 0.70512964 0.6770369  0.68294344 0.70505204 0.73030792 0.77681012\n",
            " 0.77899166 0.77588749 0.76817018 0.78013848 0.74702733 0.76541091\n",
            " 0.79764255 0.81662973 0.8387642  0.79517646 0.80708441 0.73151509\n",
            " 0.77516318 0.82152742 0.82585602 0.8467057  0.93200141 0.94428013\n",
            " 0.94288326 0.94396109 0.92446518 0.93508834 0.93261363 0.95605012\n",
            " 0.95980961 0.95012632 0.92997508 0.94475438 0.92601726 0.91969683\n",
            " 0.94903124 0.95123003 0.96999302 0.94201236 0.97422676 0.99996551\n",
            " 0.99894803 1.         0.99266209 0.99186017 0.96218085 0.95459288\n",
            " 0.9601459  0.94142602 0.94807412 0.94396109 0.93094082 0.91637709\n",
            " 0.85062611 0.80780947 0.76364064 0.7294215  0.70748717 0.69657564\n",
            " 0.69351465 0.69444066 0.69576448 0.69477755 0.68992072 0.68078786\n",
            " 0.6679399  0.65259254 0.63625342 0.62037104 0.60606354 0.59396678\n",
            " 0.58421797 0.57654858 0.57043672 0.5652681 ]\n",
            "22 day output [[0.5604682]]\n",
            "23 day input [0.85575953 0.91402309 0.8394885  0.7956852  0.74511309 0.76629905\n",
            " 0.74479405 0.7350504  0.73380873 0.75291663 0.73520561 0.71332983\n",
            " 0.68268476 0.65782553 0.68740138 0.64407233 0.65535081 0.66972485\n",
            " 0.68659084 0.69073836 0.69097117 0.70863908 0.681331   0.70512964\n",
            " 0.6770369  0.68294344 0.70505204 0.73030792 0.77681012 0.77899166\n",
            " 0.77588749 0.76817018 0.78013848 0.74702733 0.76541091 0.79764255\n",
            " 0.81662973 0.8387642  0.79517646 0.80708441 0.73151509 0.77516318\n",
            " 0.82152742 0.82585602 0.8467057  0.93200141 0.94428013 0.94288326\n",
            " 0.94396109 0.92446518 0.93508834 0.93261363 0.95605012 0.95980961\n",
            " 0.95012632 0.92997508 0.94475438 0.92601726 0.91969683 0.94903124\n",
            " 0.95123003 0.96999302 0.94201236 0.97422676 0.99996551 0.99894803\n",
            " 1.         0.99266209 0.99186017 0.96218085 0.95459288 0.9601459\n",
            " 0.94142602 0.94807412 0.94396109 0.93094082 0.91637709 0.85062611\n",
            " 0.80780947 0.76364064 0.7294215  0.70748717 0.69657564 0.69351465\n",
            " 0.69444066 0.69576448 0.69477755 0.68992072 0.68078786 0.6679399\n",
            " 0.65259254 0.63625342 0.62037104 0.60606354 0.59396678 0.58421797\n",
            " 0.57654858 0.57043672 0.5652681  0.5604682 ]\n",
            "23 day output [[0.5555912]]\n",
            "24 day input [0.91402309 0.8394885  0.7956852  0.74511309 0.76629905 0.74479405\n",
            " 0.7350504  0.73380873 0.75291663 0.73520561 0.71332983 0.68268476\n",
            " 0.65782553 0.68740138 0.64407233 0.65535081 0.66972485 0.68659084\n",
            " 0.69073836 0.69097117 0.70863908 0.681331   0.70512964 0.6770369\n",
            " 0.68294344 0.70505204 0.73030792 0.77681012 0.77899166 0.77588749\n",
            " 0.76817018 0.78013848 0.74702733 0.76541091 0.79764255 0.81662973\n",
            " 0.8387642  0.79517646 0.80708441 0.73151509 0.77516318 0.82152742\n",
            " 0.82585602 0.8467057  0.93200141 0.94428013 0.94288326 0.94396109\n",
            " 0.92446518 0.93508834 0.93261363 0.95605012 0.95980961 0.95012632\n",
            " 0.92997508 0.94475438 0.92601726 0.91969683 0.94903124 0.95123003\n",
            " 0.96999302 0.94201236 0.97422676 0.99996551 0.99894803 1.\n",
            " 0.99266209 0.99186017 0.96218085 0.95459288 0.9601459  0.94142602\n",
            " 0.94807412 0.94396109 0.93094082 0.91637709 0.85062611 0.80780947\n",
            " 0.76364064 0.7294215  0.70748717 0.69657564 0.69351465 0.69444066\n",
            " 0.69576448 0.69477755 0.68992072 0.68078786 0.6679399  0.65259254\n",
            " 0.63625342 0.62037104 0.60606354 0.59396678 0.58421797 0.57654858\n",
            " 0.57043672 0.5652681  0.5604682  0.55559123]\n",
            "24 day output [[0.5503627]]\n",
            "25 day input [0.8394885  0.7956852  0.74511309 0.76629905 0.74479405 0.7350504\n",
            " 0.73380873 0.75291663 0.73520561 0.71332983 0.68268476 0.65782553\n",
            " 0.68740138 0.64407233 0.65535081 0.66972485 0.68659084 0.69073836\n",
            " 0.69097117 0.70863908 0.681331   0.70512964 0.6770369  0.68294344\n",
            " 0.70505204 0.73030792 0.77681012 0.77899166 0.77588749 0.76817018\n",
            " 0.78013848 0.74702733 0.76541091 0.79764255 0.81662973 0.8387642\n",
            " 0.79517646 0.80708441 0.73151509 0.77516318 0.82152742 0.82585602\n",
            " 0.8467057  0.93200141 0.94428013 0.94288326 0.94396109 0.92446518\n",
            " 0.93508834 0.93261363 0.95605012 0.95980961 0.95012632 0.92997508\n",
            " 0.94475438 0.92601726 0.91969683 0.94903124 0.95123003 0.96999302\n",
            " 0.94201236 0.97422676 0.99996551 0.99894803 1.         0.99266209\n",
            " 0.99186017 0.96218085 0.95459288 0.9601459  0.94142602 0.94807412\n",
            " 0.94396109 0.93094082 0.91637709 0.85062611 0.80780947 0.76364064\n",
            " 0.7294215  0.70748717 0.69657564 0.69351465 0.69444066 0.69576448\n",
            " 0.69477755 0.68992072 0.68078786 0.6679399  0.65259254 0.63625342\n",
            " 0.62037104 0.60606354 0.59396678 0.58421797 0.57654858 0.57043672\n",
            " 0.5652681  0.5604682  0.55559123 0.55036271]\n",
            "25 day output [[0.5446829]]\n",
            "26 day input [0.7956852  0.74511309 0.76629905 0.74479405 0.7350504  0.73380873\n",
            " 0.75291663 0.73520561 0.71332983 0.68268476 0.65782553 0.68740138\n",
            " 0.64407233 0.65535081 0.66972485 0.68659084 0.69073836 0.69097117\n",
            " 0.70863908 0.681331   0.70512964 0.6770369  0.68294344 0.70505204\n",
            " 0.73030792 0.77681012 0.77899166 0.77588749 0.76817018 0.78013848\n",
            " 0.74702733 0.76541091 0.79764255 0.81662973 0.8387642  0.79517646\n",
            " 0.80708441 0.73151509 0.77516318 0.82152742 0.82585602 0.8467057\n",
            " 0.93200141 0.94428013 0.94288326 0.94396109 0.92446518 0.93508834\n",
            " 0.93261363 0.95605012 0.95980961 0.95012632 0.92997508 0.94475438\n",
            " 0.92601726 0.91969683 0.94903124 0.95123003 0.96999302 0.94201236\n",
            " 0.97422676 0.99996551 0.99894803 1.         0.99266209 0.99186017\n",
            " 0.96218085 0.95459288 0.9601459  0.94142602 0.94807412 0.94396109\n",
            " 0.93094082 0.91637709 0.85062611 0.80780947 0.76364064 0.7294215\n",
            " 0.70748717 0.69657564 0.69351465 0.69444066 0.69576448 0.69477755\n",
            " 0.68992072 0.68078786 0.6679399  0.65259254 0.63625342 0.62037104\n",
            " 0.60606354 0.59396678 0.58421797 0.57654858 0.57043672 0.5652681\n",
            " 0.5604682  0.55559123 0.55036271 0.54468292]\n",
            "26 day output [[0.538601]]\n",
            "27 day input [0.74511309 0.76629905 0.74479405 0.7350504  0.73380873 0.75291663\n",
            " 0.73520561 0.71332983 0.68268476 0.65782553 0.68740138 0.64407233\n",
            " 0.65535081 0.66972485 0.68659084 0.69073836 0.69097117 0.70863908\n",
            " 0.681331   0.70512964 0.6770369  0.68294344 0.70505204 0.73030792\n",
            " 0.77681012 0.77899166 0.77588749 0.76817018 0.78013848 0.74702733\n",
            " 0.76541091 0.79764255 0.81662973 0.8387642  0.79517646 0.80708441\n",
            " 0.73151509 0.77516318 0.82152742 0.82585602 0.8467057  0.93200141\n",
            " 0.94428013 0.94288326 0.94396109 0.92446518 0.93508834 0.93261363\n",
            " 0.95605012 0.95980961 0.95012632 0.92997508 0.94475438 0.92601726\n",
            " 0.91969683 0.94903124 0.95123003 0.96999302 0.94201236 0.97422676\n",
            " 0.99996551 0.99894803 1.         0.99266209 0.99186017 0.96218085\n",
            " 0.95459288 0.9601459  0.94142602 0.94807412 0.94396109 0.93094082\n",
            " 0.91637709 0.85062611 0.80780947 0.76364064 0.7294215  0.70748717\n",
            " 0.69657564 0.69351465 0.69444066 0.69576448 0.69477755 0.68992072\n",
            " 0.68078786 0.6679399  0.65259254 0.63625342 0.62037104 0.60606354\n",
            " 0.59396678 0.58421797 0.57654858 0.57043672 0.5652681  0.5604682\n",
            " 0.55559123 0.55036271 0.54468292 0.53860098]\n",
            "27 day output [[0.532271]]\n",
            "28 day input [0.76629905 0.74479405 0.7350504  0.73380873 0.75291663 0.73520561\n",
            " 0.71332983 0.68268476 0.65782553 0.68740138 0.64407233 0.65535081\n",
            " 0.66972485 0.68659084 0.69073836 0.69097117 0.70863908 0.681331\n",
            " 0.70512964 0.6770369  0.68294344 0.70505204 0.73030792 0.77681012\n",
            " 0.77899166 0.77588749 0.76817018 0.78013848 0.74702733 0.76541091\n",
            " 0.79764255 0.81662973 0.8387642  0.79517646 0.80708441 0.73151509\n",
            " 0.77516318 0.82152742 0.82585602 0.8467057  0.93200141 0.94428013\n",
            " 0.94288326 0.94396109 0.92446518 0.93508834 0.93261363 0.95605012\n",
            " 0.95980961 0.95012632 0.92997508 0.94475438 0.92601726 0.91969683\n",
            " 0.94903124 0.95123003 0.96999302 0.94201236 0.97422676 0.99996551\n",
            " 0.99894803 1.         0.99266209 0.99186017 0.96218085 0.95459288\n",
            " 0.9601459  0.94142602 0.94807412 0.94396109 0.93094082 0.91637709\n",
            " 0.85062611 0.80780947 0.76364064 0.7294215  0.70748717 0.69657564\n",
            " 0.69351465 0.69444066 0.69576448 0.69477755 0.68992072 0.68078786\n",
            " 0.6679399  0.65259254 0.63625342 0.62037104 0.60606354 0.59396678\n",
            " 0.58421797 0.57654858 0.57043672 0.5652681  0.5604682  0.55559123\n",
            " 0.55036271 0.54468292 0.53860098 0.53227103]\n",
            "28 day output [[0.52589995]]\n",
            "29 day input [0.74479405 0.7350504  0.73380873 0.75291663 0.73520561 0.71332983\n",
            " 0.68268476 0.65782553 0.68740138 0.64407233 0.65535081 0.66972485\n",
            " 0.68659084 0.69073836 0.69097117 0.70863908 0.681331   0.70512964\n",
            " 0.6770369  0.68294344 0.70505204 0.73030792 0.77681012 0.77899166\n",
            " 0.77588749 0.76817018 0.78013848 0.74702733 0.76541091 0.79764255\n",
            " 0.81662973 0.8387642  0.79517646 0.80708441 0.73151509 0.77516318\n",
            " 0.82152742 0.82585602 0.8467057  0.93200141 0.94428013 0.94288326\n",
            " 0.94396109 0.92446518 0.93508834 0.93261363 0.95605012 0.95980961\n",
            " 0.95012632 0.92997508 0.94475438 0.92601726 0.91969683 0.94903124\n",
            " 0.95123003 0.96999302 0.94201236 0.97422676 0.99996551 0.99894803\n",
            " 1.         0.99266209 0.99186017 0.96218085 0.95459288 0.9601459\n",
            " 0.94142602 0.94807412 0.94396109 0.93094082 0.91637709 0.85062611\n",
            " 0.80780947 0.76364064 0.7294215  0.70748717 0.69657564 0.69351465\n",
            " 0.69444066 0.69576448 0.69477755 0.68992072 0.68078786 0.6679399\n",
            " 0.65259254 0.63625342 0.62037104 0.60606354 0.59396678 0.58421797\n",
            " 0.57654858 0.57043672 0.5652681  0.5604682  0.55559123 0.55036271\n",
            " 0.54468292 0.53860098 0.53227103 0.52589995]\n",
            "29 day output [[0.5197003]]\n",
            "[[0.8506261110305786], [0.8078094720840454], [0.7636406421661377], [0.7294214963912964], [0.707487165927887], [0.6965756416320801], [0.6935146450996399], [0.6944406628608704], [0.6957644820213318], [0.6947775483131409], [0.6899207234382629], [0.6807878613471985], [0.6679399013519287], [0.6525925397872925], [0.6362534165382385], [0.6203710436820984], [0.6060635447502136], [0.5939667820930481], [0.5842179656028748], [0.5765485763549805], [0.5704367160797119], [0.5652680993080139], [0.5604681968688965], [0.5555912256240845], [0.5503627061843872], [0.5446829199790955], [0.5386009812355042], [0.5322710275650024], [0.5258999466896057], [0.519700288772583]]\n"
          ],
          "name": "stdout"
        }
      ]
    },
    {
      "cell_type": "code",
      "metadata": {
        "id": "o7SoQ0ANVwyC"
      },
      "source": [
        "day_new=np.arange(1,101)\r\n",
        "day_pred=np.arange(101,131)"
      ],
      "execution_count": 95,
      "outputs": []
    },
    {
      "cell_type": "code",
      "metadata": {
        "colab": {
          "base_uri": "https://localhost:8080/",
          "height": 282
        },
        "id": "9djeChDdVz4p",
        "outputId": "b6d529fc-c2ba-4433-b3f3-182796f47bd3"
      },
      "source": [
        "plt.plot(day_new,scaler.inverse_transform(df1[1157:]))\r\n",
        "plt.plot(day_pred,scaler.inverse_transform(lst_output))"
      ],
      "execution_count": 99,
      "outputs": [
        {
          "output_type": "execute_result",
          "data": {
            "text/plain": [
              "[<matplotlib.lines.Line2D at 0x7f6ac2941ef0>]"
            ]
          },
          "metadata": {
            "tags": []
          },
          "execution_count": 99
        },
        {
          "output_type": "display_data",
          "data": {
            "image/png": "[encoded data removed]",
            "text/plain": [
              "<Figure size 432x288 with 1 Axes>"
            ]
          },
          "metadata": {
            "tags": [],
            "needs_background": "light"
          }
        }
      ]
    },
    {
      "cell_type": "code",
      "metadata": {
        "colab": {
          "base_uri": "https://localhost:8080/",
          "height": 282
        },
        "id": "16DExTjQV2Ot",
        "outputId": "e36d0aef-0e78-4f58-cc0e-53ddd178ca97"
      },
      "source": [
        "df3=df1.tolist()\r\n",
        "df3.extend(lst_output)\r\n",
        "plt.plot(df3[1200:])"
      ],
      "execution_count": 100,
      "outputs": [
        {
          "output_type": "execute_result",
          "data": {
            "text/plain": [
              "[<matplotlib.lines.Line2D at 0x7f6ac286a198>]"
            ]
          },
          "metadata": {
            "tags": []
          },
          "execution_count": 100
        },
        {
          "output_type": "display_data",
          "data": {
            "image/png": "[encoded data removed]",
            "text/plain": [
              "<Figure size 432x288 with 1 Axes>"
            ]
          },
          "metadata": {
            "tags": [],
            "needs_background": "light"
          }
        }
      ]
    },
    {
      "cell_type": "code",
      "metadata": {
        "colab": {
          "base_uri": "https://localhost:8080/",
          "height": 282
        },
        "id": "A0U01Ha9V4Kw",
        "outputId": "e4d8b765-973c-4fb2-90ef-9a39de17583d"
      },
      "source": [
        "df3=scaler.inverse_transform(df3).tolist()\r\n",
        "plt.plot(df3)\r\n"
      ],
      "execution_count": 101,
      "outputs": [
        {
          "output_type": "execute_result",
          "data": {
            "text/plain": [
              "[<matplotlib.lines.Line2D at 0x7f6ac28be908>]"
            ]
          },
          "metadata": {
            "tags": []
          },
          "execution_count": 101
        },
        {
          "output_type": "display_data",
          "data": {
            "image/png": "[encoded data removed]",
            "text/plain": [
              "<Figure size 432x288 with 1 Axes>"
            ]
          },
          "metadata": {
            "tags": [],
            "needs_background": "light"
          }
        }
      ]
    }
  ]
}