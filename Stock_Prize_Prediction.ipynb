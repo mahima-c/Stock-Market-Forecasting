{
  "nbformat": 4,
  "nbformat_minor": 0,
  "metadata": {
    "colab": {
      "name": "Stock_Prize_Prediction.ipynb",
      "provenance": [],
      "authorship_tag": "ABX9TyMVNooqEgqO8qzUejWlS91p",
      "include_colab_link": true
    },
    "kernelspec": {
      "display_name": "Python 3",
      "name": "python3"
    }
  },
  "cells": [
    {
      "cell_type": "markdown",
      "metadata": {
        "id": "view-in-github",
        "colab_type": "text"
      },
      "source": [
        "<a href=\"https://colab.research.google.com/github/mahima-c/Stock-Market-Forecasting/blob/main/Stock_Prize_Prediction.ipynb\" target=\"_parent\"><img src=\"https://colab.research.google.com/assets/colab-badge.svg\" alt=\"Open In Colab\"/></a>"
      ]
    },
    {
      "cell_type": "markdown",
      "metadata": {
        "id": "AO-PCfgJ3O8Z"
      },
      "source": [
        "**Stock Market Prediction and Forecasting Using stacked LSTM**"
      ]
    },
    {
      "cell_type": "code",
      "metadata": {
        "id": "s_D5OJgY3hvw"
      },
      "source": [
        "# data Collection\r\n",
        "\r\n",
        "import pandas_datareader as pdr\r\n",
        "import os"
      ],
      "execution_count": 1,
      "outputs": []
    },
    {
      "cell_type": "code",
      "metadata": {
        "id": "ew6Bsdxs3rVF"
      },
      "source": [
        "TIINGO_API_KEY=\"85f767849d48ecab3d73e334589408a866c2a229\"\r\n",
        "df=df = pdr.get_data_tiingo('AAPL', api_key=TIINGO_API_KEY)"
      ],
      "execution_count": 3,
      "outputs": []
    },
    {
      "cell_type": "code",
      "metadata": {
        "colab": {
          "base_uri": "https://localhost:8080/",
          "height": 329
        },
        "id": "RKugw7F95BHq",
        "outputId": "8b7b2a65-992c-41c3-90c4-0d2d73e4528f"
      },
      "source": [
        "df.head()"
      ],
      "execution_count": 4,
      "outputs": [
        {
          "output_type": "execute_result",
          "data": {
            "text/html": [
              "<div>\n",
              "<style scoped>\n",
              "    .dataframe tbody tr th:only-of-type {\n",
              "        vertical-align: middle;\n",
              "    }\n",
              "\n",
              "    .dataframe tbody tr th {\n",
              "        vertical-align: top;\n",
              "    }\n",
              "\n",
              "    .dataframe thead th {\n",
              "        text-align: right;\n",
              "    }\n",
              "</style>\n",
              "<table border=\"1\" class=\"dataframe\">\n",
              "  <thead>\n",
              "    <tr style=\"text-align: right;\">\n",
              "      <th></th>\n",
              "      <th></th>\n",
              "      <th>close</th>\n",
              "      <th>high</th>\n",
              "      <th>low</th>\n",
              "      <th>open</th>\n",
              "      <th>volume</th>\n",
              "      <th>adjClose</th>\n",
              "      <th>adjHigh</th>\n",
              "      <th>adjLow</th>\n",
              "      <th>adjOpen</th>\n",
              "      <th>adjVolume</th>\n",
              "      <th>divCash</th>\n",
              "      <th>splitFactor</th>\n",
              "    </tr>\n",
              "    <tr>\n",
              "      <th>symbol</th>\n",
              "      <th>date</th>\n",
              "      <th></th>\n",
              "      <th></th>\n",
              "      <th></th>\n",
              "      <th></th>\n",
              "      <th></th>\n",
              "      <th></th>\n",
              "      <th></th>\n",
              "      <th></th>\n",
              "      <th></th>\n",
              "      <th></th>\n",
              "      <th></th>\n",
              "      <th></th>\n",
              "    </tr>\n",
              "  </thead>\n",
              "  <tbody>\n",
              "    <tr>\n",
              "      <th rowspan=\"5\" valign=\"top\">AAPL</th>\n",
              "      <th>2015-12-24 00:00:00+00:00</th>\n",
              "      <td>108.03</td>\n",
              "      <td>109.00</td>\n",
              "      <td>107.9500</td>\n",
              "      <td>109.00</td>\n",
              "      <td>13596680</td>\n",
              "      <td>25.018514</td>\n",
              "      <td>25.243155</td>\n",
              "      <td>24.999987</td>\n",
              "      <td>25.243155</td>\n",
              "      <td>54386720</td>\n",
              "      <td>0.0</td>\n",
              "      <td>1.0</td>\n",
              "    </tr>\n",
              "    <tr>\n",
              "      <th>2015-12-28 00:00:00+00:00</th>\n",
              "      <td>106.82</td>\n",
              "      <td>107.69</td>\n",
              "      <td>106.1807</td>\n",
              "      <td>107.59</td>\n",
              "      <td>26704210</td>\n",
              "      <td>24.738292</td>\n",
              "      <td>24.939774</td>\n",
              "      <td>24.590238</td>\n",
              "      <td>24.916616</td>\n",
              "      <td>106816840</td>\n",
              "      <td>0.0</td>\n",
              "      <td>1.0</td>\n",
              "    </tr>\n",
              "    <tr>\n",
              "      <th>2015-12-29 00:00:00+00:00</th>\n",
              "      <td>108.74</td>\n",
              "      <td>109.43</td>\n",
              "      <td>106.8600</td>\n",
              "      <td>106.96</td>\n",
              "      <td>30931243</td>\n",
              "      <td>25.182942</td>\n",
              "      <td>25.342738</td>\n",
              "      <td>24.747556</td>\n",
              "      <td>24.770715</td>\n",
              "      <td>123724972</td>\n",
              "      <td>0.0</td>\n",
              "      <td>1.0</td>\n",
              "    </tr>\n",
              "    <tr>\n",
              "      <th>2015-12-30 00:00:00+00:00</th>\n",
              "      <td>107.32</td>\n",
              "      <td>108.70</td>\n",
              "      <td>107.1800</td>\n",
              "      <td>108.58</td>\n",
              "      <td>25213777</td>\n",
              "      <td>24.854087</td>\n",
              "      <td>25.173679</td>\n",
              "      <td>24.821664</td>\n",
              "      <td>25.145888</td>\n",
              "      <td>100855108</td>\n",
              "      <td>0.0</td>\n",
              "      <td>1.0</td>\n",
              "    </tr>\n",
              "    <tr>\n",
              "      <th>2015-12-31 00:00:00+00:00</th>\n",
              "      <td>105.26</td>\n",
              "      <td>107.03</td>\n",
              "      <td>104.8200</td>\n",
              "      <td>107.01</td>\n",
              "      <td>40912316</td>\n",
              "      <td>24.377014</td>\n",
              "      <td>24.786926</td>\n",
              "      <td>24.275115</td>\n",
              "      <td>24.782294</td>\n",
              "      <td>163649264</td>\n",
              "      <td>0.0</td>\n",
              "      <td>1.0</td>\n",
              "    </tr>\n",
              "  </tbody>\n",
              "</table>\n",
              "</div>"
            ],
            "text/plain": [
              "                                   close    high  ...  divCash  splitFactor\n",
              "symbol date                                       ...                      \n",
              "AAPL   2015-12-24 00:00:00+00:00  108.03  109.00  ...      0.0          1.0\n",
              "       2015-12-28 00:00:00+00:00  106.82  107.69  ...      0.0          1.0\n",
              "       2015-12-29 00:00:00+00:00  108.74  109.43  ...      0.0          1.0\n",
              "       2015-12-30 00:00:00+00:00  107.32  108.70  ...      0.0          1.0\n",
              "       2015-12-31 00:00:00+00:00  105.26  107.03  ...      0.0          1.0\n",
              "\n",
              "[5 rows x 12 columns]"
            ]
          },
          "metadata": {
            "tags": []
          },
          "execution_count": 4
        }
      ]
    },
    {
      "cell_type": "code",
      "metadata": {
        "id": "_0Pi0EtF5IGT"
      },
      "source": [
        "df.to_csv('appl.csv')"
      ],
      "execution_count": 5,
      "outputs": []
    },
    {
      "cell_type": "code",
      "metadata": {
        "colab": {
          "base_uri": "https://localhost:8080/",
          "height": 299
        },
        "id": "K6NjAM3Y5PaH",
        "outputId": "5dc0e34f-f4b3-420b-b39f-5f0f3e9cc8fb"
      },
      "source": [
        "import pandas as pd\r\n",
        "df=pd.read_csv(\"appl.csv\")\r\n",
        "df.head()"
      ],
      "execution_count": 6,
      "outputs": [
        {
          "output_type": "execute_result",
          "data": {
            "text/html": [
              "<div>\n",
              "<style scoped>\n",
              "    .dataframe tbody tr th:only-of-type {\n",
              "        vertical-align: middle;\n",
              "    }\n",
              "\n",
              "    .dataframe tbody tr th {\n",
              "        vertical-align: top;\n",
              "    }\n",
              "\n",
              "    .dataframe thead th {\n",
              "        text-align: right;\n",
              "    }\n",
              "</style>\n",
              "<table border=\"1\" class=\"dataframe\">\n",
              "  <thead>\n",
              "    <tr style=\"text-align: right;\">\n",
              "      <th></th>\n",
              "      <th>symbol</th>\n",
              "      <th>date</th>\n",
              "      <th>close</th>\n",
              "      <th>high</th>\n",
              "      <th>low</th>\n",
              "      <th>open</th>\n",
              "      <th>volume</th>\n",
              "      <th>adjClose</th>\n",
              "      <th>adjHigh</th>\n",
              "      <th>adjLow</th>\n",
              "      <th>adjOpen</th>\n",
              "      <th>adjVolume</th>\n",
              "      <th>divCash</th>\n",
              "      <th>splitFactor</th>\n",
              "    </tr>\n",
              "  </thead>\n",
              "  <tbody>\n",
              "    <tr>\n",
              "      <th>0</th>\n",
              "      <td>AAPL</td>\n",
              "      <td>2015-12-24 00:00:00+00:00</td>\n",
              "      <td>108.03</td>\n",
              "      <td>109.00</td>\n",
              "      <td>107.9500</td>\n",
              "      <td>109.00</td>\n",
              "      <td>13596680</td>\n",
              "      <td>25.018514</td>\n",
              "      <td>25.243155</td>\n",
              "      <td>24.999987</td>\n",
              "      <td>25.243155</td>\n",
              "      <td>54386720</td>\n",
              "      <td>0.0</td>\n",
              "      <td>1.0</td>\n",
              "    </tr>\n",
              "    <tr>\n",
              "      <th>1</th>\n",
              "      <td>AAPL</td>\n",
              "      <td>2015-12-28 00:00:00+00:00</td>\n",
              "      <td>106.82</td>\n",
              "      <td>107.69</td>\n",
              "      <td>106.1807</td>\n",
              "      <td>107.59</td>\n",
              "      <td>26704210</td>\n",
              "      <td>24.738292</td>\n",
              "      <td>24.939774</td>\n",
              "      <td>24.590238</td>\n",
              "      <td>24.916616</td>\n",
              "      <td>106816840</td>\n",
              "      <td>0.0</td>\n",
              "      <td>1.0</td>\n",
              "    </tr>\n",
              "    <tr>\n",
              "      <th>2</th>\n",
              "      <td>AAPL</td>\n",
              "      <td>2015-12-29 00:00:00+00:00</td>\n",
              "      <td>108.74</td>\n",
              "      <td>109.43</td>\n",
              "      <td>106.8600</td>\n",
              "      <td>106.96</td>\n",
              "      <td>30931243</td>\n",
              "      <td>25.182942</td>\n",
              "      <td>25.342738</td>\n",
              "      <td>24.747556</td>\n",
              "      <td>24.770715</td>\n",
              "      <td>123724972</td>\n",
              "      <td>0.0</td>\n",
              "      <td>1.0</td>\n",
              "    </tr>\n",
              "    <tr>\n",
              "      <th>3</th>\n",
              "      <td>AAPL</td>\n",
              "      <td>2015-12-30 00:00:00+00:00</td>\n",
              "      <td>107.32</td>\n",
              "      <td>108.70</td>\n",
              "      <td>107.1800</td>\n",
              "      <td>108.58</td>\n",
              "      <td>25213777</td>\n",
              "      <td>24.854087</td>\n",
              "      <td>25.173679</td>\n",
              "      <td>24.821664</td>\n",
              "      <td>25.145888</td>\n",
              "      <td>100855108</td>\n",
              "      <td>0.0</td>\n",
              "      <td>1.0</td>\n",
              "    </tr>\n",
              "    <tr>\n",
              "      <th>4</th>\n",
              "      <td>AAPL</td>\n",
              "      <td>2015-12-31 00:00:00+00:00</td>\n",
              "      <td>105.26</td>\n",
              "      <td>107.03</td>\n",
              "      <td>104.8200</td>\n",
              "      <td>107.01</td>\n",
              "      <td>40912316</td>\n",
              "      <td>24.377014</td>\n",
              "      <td>24.786926</td>\n",
              "      <td>24.275115</td>\n",
              "      <td>24.782294</td>\n",
              "      <td>163649264</td>\n",
              "      <td>0.0</td>\n",
              "      <td>1.0</td>\n",
              "    </tr>\n",
              "  </tbody>\n",
              "</table>\n",
              "</div>"
            ],
            "text/plain": [
              "  symbol                       date   close  ...  adjVolume  divCash  splitFactor\n",
              "0   AAPL  2015-12-24 00:00:00+00:00  108.03  ...   54386720      0.0          1.0\n",
              "1   AAPL  2015-12-28 00:00:00+00:00  106.82  ...  106816840      0.0          1.0\n",
              "2   AAPL  2015-12-29 00:00:00+00:00  108.74  ...  123724972      0.0          1.0\n",
              "3   AAPL  2015-12-30 00:00:00+00:00  107.32  ...  100855108      0.0          1.0\n",
              "4   AAPL  2015-12-31 00:00:00+00:00  105.26  ...  163649264      0.0          1.0\n",
              "\n",
              "[5 rows x 14 columns]"
            ]
          },
          "metadata": {
            "tags": []
          },
          "execution_count": 6
        }
      ]
    },
    {
      "cell_type": "code",
      "metadata": {
        "id": "bEY0iWVg5fXt"
      },
      "source": [
        "df1=df.reset_index()['close']"
      ],
      "execution_count": 7,
      "outputs": []
    },
    {
      "cell_type": "code",
      "metadata": {
        "colab": {
          "base_uri": "https://localhost:8080/"
        },
        "id": "Zq9y34vWD0y5",
        "outputId": "3df2ff7f-10cb-4c08-83ce-05290ca70b52"
      },
      "source": [
        "df1"
      ],
      "execution_count": 8,
      "outputs": [
        {
          "output_type": "execute_result",
          "data": {
            "text/plain": [
              "0       108.030\n",
              "1       106.820\n",
              "2       108.740\n",
              "3       107.320\n",
              "4       105.260\n",
              "         ...   \n",
              "1252    127.880\n",
              "1253    127.810\n",
              "1254    128.700\n",
              "1255    126.655\n",
              "1256    128.230\n",
              "Name: close, Length: 1257, dtype: float64"
            ]
          },
          "metadata": {
            "tags": []
          },
          "execution_count": 8
        }
      ]
    },
    {
      "cell_type": "code",
      "metadata": {
        "colab": {
          "base_uri": "https://localhost:8080/",
          "height": 282
        },
        "id": "J5pq6kaqD0-r",
        "outputId": "bac3532e-0478-4220-f3dc-2ccbfbe4d5b9"
      },
      "source": [
        "import matplotlib.pyplot as plt\r\n",
        "plt.plot(df1)"
      ],
      "execution_count": 9,
      "outputs": [
        {
          "output_type": "execute_result",
          "data": {
            "text/plain": [
              "[<matplotlib.lines.Line2D at 0x7fd74ade0a90>]"
            ]
          },
          "metadata": {
            "tags": []
          },
          "execution_count": 9
        },
        {
          "output_type": "display_data",
          "data": {
            "image/png": "[encoded data removed]",
            "text/plain": [
              "<Figure size 432x288 with 1 Axes>"
            ]
          },
          "metadata": {
            "tags": [],
            "needs_background": "light"
          }
        }
      ]
    },
    {
      "cell_type": "code",
      "metadata": {
        "id": "kX1MrGKjD92i"
      },
      "source": [
        "### LSTM are sensitive to the scale of the data. so we apply MinMax scaler\r\n",
        "import numpy as np\r\n"
      ],
      "execution_count": 10,
      "outputs": []
    },
    {
      "cell_type": "code",
      "metadata": {
        "id": "lWjCgdwUD-C_"
      },
      "source": [
        "\r\n",
        "from sklearn.preprocessing import MinMaxScaler\r\n",
        "scaler=MinMaxScaler(feature_range=(0,1))\r\n",
        "df1=scaler.fit_transform(np.array(df1).reshape(-1,1))"
      ],
      "execution_count": 11,
      "outputs": []
    },
    {
      "cell_type": "code",
      "metadata": {
        "colab": {
          "base_uri": "https://localhost:8080/"
        },
        "id": "TNnBU0rSEFr6",
        "outputId": "c91587f7-3dac-49e7-fe68-30a16e3080b6"
      },
      "source": [
        "df1"
      ],
      "execution_count": 12,
      "outputs": [
        {
          "output_type": "execute_result",
          "data": {
            "text/plain": [
              "array([[0.04254961],\n",
              "       [0.03963921],\n",
              "       [0.04425737],\n",
              "       ...,\n",
              "       [0.09226699],\n",
              "       [0.08734817],\n",
              "       [0.0911365 ]])"
            ]
          },
          "metadata": {
            "tags": []
          },
          "execution_count": 12
        }
      ]
    },
    {
      "cell_type": "code",
      "metadata": {
        "id": "f9_58M_4EFwx"
      },
      "source": [
        "##splitting dataset into train and test split\r\n",
        "# in time series\r\n",
        "# we can use crossvalidation beacuse that choose randmly mean that loos the time stamp imformation so we can split by self\r\n",
        "training_size=int(len(df1)*0.65)\r\n",
        "test_size=len(df1)-training_size\r\n",
        "train_data,test_data=df1[0:training_size,:],df1[training_size:len(df1),:1]"
      ],
      "execution_count": 13,
      "outputs": []
    },
    {
      "cell_type": "code",
      "metadata": {
        "id": "XXQ9p0n1EFyn"
      },
      "source": [
        "# convert an array of values into a dataset matrix\r\n",
        "# timestep is that how much day previous depend on predict next day\r\n",
        "# example seq is ---> 120,110,125,145,135\r\n",
        "# timestep=3\r\n",
        "# 120 110 125 o/p=145....\r\n",
        "def create_dataset(dataset, time_step=1):\r\n",
        "\tdataX, dataY = [], []\r\n",
        "\tfor i in range(len(dataset)-time_step-1):\r\n",
        "\t\ta = dataset[i:(i+time_step), 0]   ###i=0, 0,1,2,3-----99   100 \r\n",
        "\t\tdataX.append(a)\r\n",
        "\t\tdataY.append(dataset[i + time_step, 0])\r\n",
        "\treturn np.array(dataX), np.array(dataY)"
      ],
      "execution_count": 14,
      "outputs": []
    },
    {
      "cell_type": "code",
      "metadata": {
        "id": "XCkR2I2FIcWb"
      },
      "source": [
        "# reshape into X=t,t+1,t+2,t+3 and Y=t+4\r\n",
        "time_step = 100\r\n",
        "X_train, y_train = create_dataset(train_data, time_step)\r\n",
        "X_test, ytest = create_dataset(test_data, time_step)"
      ],
      "execution_count": 15,
      "outputs": []
    },
    {
      "cell_type": "code",
      "metadata": {
        "colab": {
          "base_uri": "https://localhost:8080/"
        },
        "id": "YATIMHOYIcaG",
        "outputId": "7511b734-a307-467a-db44-ff83da106be0"
      },
      "source": [
        "print(X_train.shape), print(y_train.shape)\r\n",
        "print(X_test.shape), print(ytest.shape)\r\n"
      ],
      "execution_count": 16,
      "outputs": [
        {
          "output_type": "stream",
          "text": [
            "(716, 100)\n",
            "(716,)\n",
            "(339, 100)\n",
            "(339,)\n"
          ],
          "name": "stdout"
        },
        {
          "output_type": "execute_result",
          "data": {
            "text/plain": [
              "(None, None)"
            ]
          },
          "metadata": {
            "tags": []
          },
          "execution_count": 16
        }
      ]
    },
    {
      "cell_type": "code",
      "metadata": {
        "id": "N_7Y3lmYIceJ"
      },
      "source": [
        "# reshape input to be [samples, time steps, features] which is required for LSTM\r\n",
        "X_train =X_train.reshape(X_train.shape[0],X_train.shape[1] , 1)\r\n",
        "X_test = X_test.reshape(X_test.shape[0],X_test.shape[1] , 1)"
      ],
      "execution_count": 17,
      "outputs": []
    },
    {
      "cell_type": "code",
      "metadata": {
        "id": "VR_YELBrI8oq"
      },
      "source": [
        "\r\n",
        "### Create the Stacked LSTM model\r\n",
        "from tensorflow.keras.models import Sequential\r\n",
        "from tensorflow.keras.layers import Dense\r\n",
        "from tensorflow.keras.layers import LSTM"
      ],
      "execution_count": 18,
      "outputs": []
    },
    {
      "cell_type": "code",
      "metadata": {
        "id": "sUy_gUpgI8rL"
      },
      "source": [
        "\r\n",
        "model=Sequential()\r\n",
        "model.add(LSTM(50,return_sequences=True,input_shape=(100,1)))\r\n",
        "model.add(LSTM(50,return_sequences=True))\r\n",
        "model.add(LSTM(50))\r\n",
        "model.add(Dense(1))\r\n",
        "model.compile(loss='mean_squared_error',optimizer='adam')"
      ],
      "execution_count": 19,
      "outputs": []
    },
    {
      "cell_type": "code",
      "metadata": {
        "colab": {
          "base_uri": "https://localhost:8080/"
        },
        "id": "uwCspFoTI8ul",
        "outputId": "fc566287-4f7b-4aa5-974a-f03bb590d777"
      },
      "source": [
        "model.summary()\r\n"
      ],
      "execution_count": 20,
      "outputs": [
        {
          "output_type": "stream",
          "text": [
            "Model: \"sequential\"\n",
            "_________________________________________________________________\n",
            "Layer (type)                 Output Shape              Param #   \n",
            "=================================================================\n",
            "lstm (LSTM)                  (None, 100, 50)           10400     \n",
            "_________________________________________________________________\n",
            "lstm_1 (LSTM)                (None, 100, 50)           20200     \n",
            "_________________________________________________________________\n",
            "lstm_2 (LSTM)                (None, 50)                20200     \n",
            "_________________________________________________________________\n",
            "dense (Dense)                (None, 1)                 51        \n",
            "=================================================================\n",
            "Total params: 50,851\n",
            "Trainable params: 50,851\n",
            "Non-trainable params: 0\n",
            "_________________________________________________________________\n"
          ],
          "name": "stdout"
        }
      ]
    },
    {
      "cell_type": "code",
      "metadata": {
        "colab": {
          "base_uri": "https://localhost:8080/"
        },
        "id": "JTlUnNrYJJqy",
        "outputId": "237e3e49-cb7a-400c-cfec-fec6944935ba"
      },
      "source": [
        "model.fit(X_train,y_train,validation_data=(X_test,ytest),epochs=100,batch_size=64,verbose=1)\r\n"
      ],
      "execution_count": 21,
      "outputs": [
        {
          "output_type": "stream",
          "text": [
            "Epoch 1/100\n",
            "12/12 [==============================] - 8s 305ms/step - loss: 0.0134 - val_loss: 0.0489\n",
            "Epoch 2/100\n",
            "12/12 [==============================] - 2s 193ms/step - loss: 0.0018 - val_loss: 0.0209\n",
            "Epoch 3/100\n",
            "12/12 [==============================] - 2s 197ms/step - loss: 6.1556e-04 - val_loss: 0.0220\n",
            "Epoch 4/100\n",
            "12/12 [==============================] - 2s 193ms/step - loss: 4.8863e-04 - val_loss: 0.0195\n",
            "Epoch 5/100\n",
            "12/12 [==============================] - 2s 195ms/step - loss: 4.1862e-04 - val_loss: 0.0189\n",
            "Epoch 6/100\n",
            "12/12 [==============================] - 2s 194ms/step - loss: 3.6411e-04 - val_loss: 0.0186\n",
            "Epoch 7/100\n",
            "12/12 [==============================] - 2s 194ms/step - loss: 3.2999e-04 - val_loss: 0.0181\n",
            "Epoch 8/100\n",
            "12/12 [==============================] - 2s 196ms/step - loss: 2.8889e-04 - val_loss: 0.0178\n",
            "Epoch 9/100\n",
            "12/12 [==============================] - 2s 196ms/step - loss: 3.2024e-04 - val_loss: 0.0175\n",
            "Epoch 10/100\n",
            "12/12 [==============================] - 2s 208ms/step - loss: 2.9375e-04 - val_loss: 0.0170\n",
            "Epoch 11/100\n",
            "12/12 [==============================] - 2s 208ms/step - loss: 2.6956e-04 - val_loss: 0.0167\n",
            "Epoch 12/100\n",
            "12/12 [==============================] - 2s 199ms/step - loss: 2.6127e-04 - val_loss: 0.0165\n",
            "Epoch 13/100\n",
            "12/12 [==============================] - 2s 200ms/step - loss: 2.9749e-04 - val_loss: 0.0159\n",
            "Epoch 14/100\n",
            "12/12 [==============================] - 2s 196ms/step - loss: 2.5591e-04 - val_loss: 0.0155\n",
            "Epoch 15/100\n",
            "12/12 [==============================] - 2s 201ms/step - loss: 2.6362e-04 - val_loss: 0.0151\n",
            "Epoch 16/100\n",
            "12/12 [==============================] - 2s 195ms/step - loss: 3.0859e-04 - val_loss: 0.0148\n",
            "Epoch 17/100\n",
            "12/12 [==============================] - 2s 203ms/step - loss: 2.2080e-04 - val_loss: 0.0144\n",
            "Epoch 18/100\n",
            "12/12 [==============================] - 2s 198ms/step - loss: 2.6469e-04 - val_loss: 0.0141\n",
            "Epoch 19/100\n",
            "12/12 [==============================] - 2s 193ms/step - loss: 2.1162e-04 - val_loss: 0.0140\n",
            "Epoch 20/100\n",
            "12/12 [==============================] - 2s 193ms/step - loss: 2.2708e-04 - val_loss: 0.0134\n",
            "Epoch 21/100\n",
            "12/12 [==============================] - 2s 194ms/step - loss: 2.4724e-04 - val_loss: 0.0134\n",
            "Epoch 22/100\n",
            "12/12 [==============================] - 2s 192ms/step - loss: 1.9949e-04 - val_loss: 0.0133\n",
            "Epoch 23/100\n",
            "12/12 [==============================] - 2s 195ms/step - loss: 2.1401e-04 - val_loss: 0.0126\n",
            "Epoch 24/100\n",
            "12/12 [==============================] - 3s 261ms/step - loss: 1.7540e-04 - val_loss: 0.0124\n",
            "Epoch 25/100\n",
            "12/12 [==============================] - 3s 284ms/step - loss: 2.0956e-04 - val_loss: 0.0126\n",
            "Epoch 26/100\n",
            "12/12 [==============================] - 3s 291ms/step - loss: 2.1488e-04 - val_loss: 0.0120\n",
            "Epoch 27/100\n",
            "12/12 [==============================] - 3s 293ms/step - loss: 1.6185e-04 - val_loss: 0.0123\n",
            "Epoch 28/100\n",
            "12/12 [==============================] - 3s 225ms/step - loss: 1.9551e-04 - val_loss: 0.0116\n",
            "Epoch 29/100\n",
            "12/12 [==============================] - 2s 207ms/step - loss: 1.7577e-04 - val_loss: 0.0115\n",
            "Epoch 30/100\n",
            "12/12 [==============================] - 2s 200ms/step - loss: 2.3757e-04 - val_loss: 0.0120\n",
            "Epoch 31/100\n",
            "12/12 [==============================] - 2s 203ms/step - loss: 1.7824e-04 - val_loss: 0.0111\n",
            "Epoch 32/100\n",
            "12/12 [==============================] - 2s 204ms/step - loss: 1.8667e-04 - val_loss: 0.0110\n",
            "Epoch 33/100\n",
            "12/12 [==============================] - 2s 203ms/step - loss: 2.0133e-04 - val_loss: 0.0109\n",
            "Epoch 34/100\n",
            "12/12 [==============================] - 2s 200ms/step - loss: 1.9128e-04 - val_loss: 0.0107\n",
            "Epoch 35/100\n",
            "12/12 [==============================] - 2s 197ms/step - loss: 1.6388e-04 - val_loss: 0.0105\n",
            "Epoch 36/100\n",
            "12/12 [==============================] - 2s 210ms/step - loss: 1.8666e-04 - val_loss: 0.0108\n",
            "Epoch 37/100\n",
            "12/12 [==============================] - 2s 200ms/step - loss: 1.4764e-04 - val_loss: 0.0104\n",
            "Epoch 38/100\n",
            "12/12 [==============================] - 2s 204ms/step - loss: 1.7374e-04 - val_loss: 0.0114\n",
            "Epoch 39/100\n",
            "12/12 [==============================] - 2s 198ms/step - loss: 2.1058e-04 - val_loss: 0.0109\n",
            "Epoch 40/100\n",
            "12/12 [==============================] - 2s 201ms/step - loss: 1.8700e-04 - val_loss: 0.0101\n",
            "Epoch 41/100\n",
            "12/12 [==============================] - 2s 204ms/step - loss: 1.8373e-04 - val_loss: 0.0102\n",
            "Epoch 42/100\n",
            "12/12 [==============================] - 2s 202ms/step - loss: 1.6154e-04 - val_loss: 0.0102\n",
            "Epoch 43/100\n",
            "12/12 [==============================] - 2s 206ms/step - loss: 1.5411e-04 - val_loss: 0.0104\n",
            "Epoch 44/100\n",
            "12/12 [==============================] - 2s 201ms/step - loss: 1.5533e-04 - val_loss: 0.0099\n",
            "Epoch 45/100\n",
            "12/12 [==============================] - 2s 201ms/step - loss: 1.5752e-04 - val_loss: 0.0100\n",
            "Epoch 46/100\n",
            "12/12 [==============================] - 2s 199ms/step - loss: 1.4322e-04 - val_loss: 0.0100\n",
            "Epoch 47/100\n",
            "12/12 [==============================] - 2s 199ms/step - loss: 1.7113e-04 - val_loss: 0.0094\n",
            "Epoch 48/100\n",
            "12/12 [==============================] - 2s 202ms/step - loss: 1.6953e-04 - val_loss: 0.0095\n",
            "Epoch 49/100\n",
            "12/12 [==============================] - 2s 198ms/step - loss: 1.9652e-04 - val_loss: 0.0098\n",
            "Epoch 50/100\n",
            "12/12 [==============================] - 2s 197ms/step - loss: 1.7319e-04 - val_loss: 0.0093\n",
            "Epoch 51/100\n",
            "12/12 [==============================] - 2s 203ms/step - loss: 1.5462e-04 - val_loss: 0.0095\n",
            "Epoch 52/100\n",
            "12/12 [==============================] - 2s 202ms/step - loss: 1.3332e-04 - val_loss: 0.0097\n",
            "Epoch 53/100\n",
            "12/12 [==============================] - 3s 221ms/step - loss: 1.2483e-04 - val_loss: 0.0095\n",
            "Epoch 54/100\n",
            "12/12 [==============================] - 2s 203ms/step - loss: 1.7304e-04 - val_loss: 0.0104\n",
            "Epoch 55/100\n",
            "12/12 [==============================] - 2s 198ms/step - loss: 1.6247e-04 - val_loss: 0.0094\n",
            "Epoch 56/100\n",
            "12/12 [==============================] - 2s 202ms/step - loss: 1.3137e-04 - val_loss: 0.0100\n",
            "Epoch 57/100\n",
            "12/12 [==============================] - 2s 199ms/step - loss: 1.6064e-04 - val_loss: 0.0101\n",
            "Epoch 58/100\n",
            "12/12 [==============================] - 2s 205ms/step - loss: 1.4794e-04 - val_loss: 0.0095\n",
            "Epoch 59/100\n",
            "12/12 [==============================] - 2s 198ms/step - loss: 1.2883e-04 - val_loss: 0.0098\n",
            "Epoch 60/100\n",
            "12/12 [==============================] - 2s 200ms/step - loss: 1.2929e-04 - val_loss: 0.0099\n",
            "Epoch 61/100\n",
            "12/12 [==============================] - 2s 208ms/step - loss: 1.3703e-04 - val_loss: 0.0098\n",
            "Epoch 62/100\n",
            "12/12 [==============================] - 2s 201ms/step - loss: 1.1999e-04 - val_loss: 0.0096\n",
            "Epoch 63/100\n",
            "12/12 [==============================] - 3s 213ms/step - loss: 1.3381e-04 - val_loss: 0.0098\n",
            "Epoch 64/100\n",
            "12/12 [==============================] - 2s 198ms/step - loss: 1.2874e-04 - val_loss: 0.0098\n",
            "Epoch 65/100\n",
            "12/12 [==============================] - 2s 202ms/step - loss: 1.3957e-04 - val_loss: 0.0100\n",
            "Epoch 66/100\n",
            "12/12 [==============================] - 2s 202ms/step - loss: 1.3325e-04 - val_loss: 0.0095\n",
            "Epoch 67/100\n",
            "12/12 [==============================] - 2s 205ms/step - loss: 1.3295e-04 - val_loss: 0.0098\n",
            "Epoch 68/100\n",
            "12/12 [==============================] - 2s 199ms/step - loss: 1.3124e-04 - val_loss: 0.0100\n",
            "Epoch 69/100\n",
            "12/12 [==============================] - 2s 203ms/step - loss: 1.1303e-04 - val_loss: 0.0099\n",
            "Epoch 70/100\n",
            "12/12 [==============================] - 2s 201ms/step - loss: 1.2616e-04 - val_loss: 0.0098\n",
            "Epoch 71/100\n",
            "12/12 [==============================] - 2s 207ms/step - loss: 1.1972e-04 - val_loss: 0.0101\n",
            "Epoch 72/100\n",
            "12/12 [==============================] - 2s 199ms/step - loss: 1.1141e-04 - val_loss: 0.0113\n",
            "Epoch 73/100\n",
            "12/12 [==============================] - 2s 200ms/step - loss: 1.3324e-04 - val_loss: 0.0097\n",
            "Epoch 74/100\n",
            "12/12 [==============================] - 2s 199ms/step - loss: 1.1435e-04 - val_loss: 0.0095\n",
            "Epoch 75/100\n",
            "12/12 [==============================] - 2s 205ms/step - loss: 1.1993e-04 - val_loss: 0.0090\n",
            "Epoch 76/100\n",
            "12/12 [==============================] - 2s 206ms/step - loss: 1.2986e-04 - val_loss: 0.0108\n",
            "Epoch 77/100\n",
            "12/12 [==============================] - 2s 202ms/step - loss: 1.4212e-04 - val_loss: 0.0088\n",
            "Epoch 78/100\n",
            "12/12 [==============================] - 2s 200ms/step - loss: 1.6079e-04 - val_loss: 0.0107\n",
            "Epoch 79/100\n",
            "12/12 [==============================] - 2s 202ms/step - loss: 1.4339e-04 - val_loss: 0.0092\n",
            "Epoch 80/100\n",
            "12/12 [==============================] - 2s 199ms/step - loss: 1.2498e-04 - val_loss: 0.0106\n",
            "Epoch 81/100\n",
            "12/12 [==============================] - 2s 208ms/step - loss: 1.2560e-04 - val_loss: 0.0103\n",
            "Epoch 82/100\n",
            "12/12 [==============================] - 2s 200ms/step - loss: 1.1995e-04 - val_loss: 0.0093\n",
            "Epoch 83/100\n",
            "12/12 [==============================] - 2s 203ms/step - loss: 1.1150e-04 - val_loss: 0.0105\n",
            "Epoch 84/100\n",
            "12/12 [==============================] - 2s 200ms/step - loss: 1.1490e-04 - val_loss: 0.0101\n",
            "Epoch 85/100\n",
            "12/12 [==============================] - 2s 204ms/step - loss: 1.1220e-04 - val_loss: 0.0100\n",
            "Epoch 86/100\n",
            "12/12 [==============================] - 2s 197ms/step - loss: 9.5211e-05 - val_loss: 0.0099\n",
            "Epoch 87/100\n",
            "12/12 [==============================] - 2s 201ms/step - loss: 1.0518e-04 - val_loss: 0.0098\n",
            "Epoch 88/100\n",
            "12/12 [==============================] - 2s 201ms/step - loss: 1.0418e-04 - val_loss: 0.0089\n",
            "Epoch 89/100\n",
            "12/12 [==============================] - 2s 198ms/step - loss: 1.1544e-04 - val_loss: 0.0088\n",
            "Epoch 90/100\n",
            "12/12 [==============================] - 2s 199ms/step - loss: 1.3305e-04 - val_loss: 0.0091\n",
            "Epoch 91/100\n",
            "12/12 [==============================] - 2s 202ms/step - loss: 1.1533e-04 - val_loss: 0.0114\n",
            "Epoch 92/100\n",
            "12/12 [==============================] - 2s 201ms/step - loss: 1.0958e-04 - val_loss: 0.0091\n",
            "Epoch 93/100\n",
            "12/12 [==============================] - 2s 204ms/step - loss: 1.0996e-04 - val_loss: 0.0092\n",
            "Epoch 94/100\n",
            "12/12 [==============================] - 2s 200ms/step - loss: 1.1511e-04 - val_loss: 0.0129\n",
            "Epoch 95/100\n",
            "12/12 [==============================] - 2s 206ms/step - loss: 1.2147e-04 - val_loss: 0.0095\n",
            "Epoch 96/100\n",
            "12/12 [==============================] - 2s 204ms/step - loss: 8.9763e-05 - val_loss: 0.0112\n",
            "Epoch 97/100\n",
            "12/12 [==============================] - 2s 206ms/step - loss: 1.0190e-04 - val_loss: 0.0085\n",
            "Epoch 98/100\n",
            "12/12 [==============================] - 3s 211ms/step - loss: 9.9749e-05 - val_loss: 0.0097\n",
            "Epoch 99/100\n",
            "12/12 [==============================] - 3s 215ms/step - loss: 9.4640e-05 - val_loss: 0.0087\n",
            "Epoch 100/100\n",
            "12/12 [==============================] - 3s 214ms/step - loss: 8.7504e-05 - val_loss: 0.0096\n"
          ],
          "name": "stdout"
        },
        {
          "output_type": "execute_result",
          "data": {
            "text/plain": [
              "<tensorflow.python.keras.callbacks.History at 0x7fd705f08908>"
            ]
          },
          "metadata": {
            "tags": []
          },
          "execution_count": 21
        }
      ]
    },
    {
      "cell_type": "code",
      "metadata": {
        "id": "5LHVdIkSJNix"
      },
      "source": [
        "### Lets Do the prediction and check performance metrics\r\n",
        "train_predict=model.predict(X_train)\r\n",
        "test_predict=model.predict(X_test)\r\n"
      ],
      "execution_count": 22,
      "outputs": []
    },
    {
      "cell_type": "code",
      "metadata": {
        "id": "fwCvHBkGJNl4"
      },
      "source": [
        "##Transformback to original form\r\n",
        "train_predict=scaler.inverse_transform(train_predict)\r\n",
        "test_predict=scaler.inverse_transform(test_predict)"
      ],
      "execution_count": 23,
      "outputs": []
    },
    {
      "cell_type": "code",
      "metadata": {
        "colab": {
          "base_uri": "https://localhost:8080/"
        },
        "id": "45b66lvoJNoc",
        "outputId": "0cbe269b-a81d-4a61-bc0c-fc749e35dd37"
      },
      "source": [
        "### Calculate RMSE performance metrics\r\n",
        "import math\r\n",
        "from sklearn.metrics import mean_squared_error\r\n",
        "math.sqrt(mean_squared_error(y_train,train_predict))"
      ],
      "execution_count": 24,
      "outputs": [
        {
          "output_type": "execute_result",
          "data": {
            "text/plain": [
              "159.35881081661037"
            ]
          },
          "metadata": {
            "tags": []
          },
          "execution_count": 24
        }
      ]
    },
    {
      "cell_type": "code",
      "metadata": {
        "colab": {
          "base_uri": "https://localhost:8080/"
        },
        "id": "QxG8c-bsJVee",
        "outputId": "37014974-566b-46f4-f070-7f88dc9eb52a"
      },
      "source": [
        "### Test Data RMSE\r\n",
        "math.sqrt(mean_squared_error(ytest,test_predict))"
      ],
      "execution_count": 25,
      "outputs": [
        {
          "output_type": "execute_result",
          "data": {
            "text/plain": [
              "258.6578728217227"
            ]
          },
          "metadata": {
            "tags": []
          },
          "execution_count": 25
        }
      ]
    },
    {
      "cell_type": "code",
      "metadata": {
        "colab": {
          "base_uri": "https://localhost:8080/",
          "height": 265
        },
        "id": "2yfrmdd-JX_Z",
        "outputId": "80b02461-8f24-4203-e0b9-182bb0f950cd"
      },
      "source": [
        "### Plotting \r\n",
        "# shift train predictions for plotting\r\n",
        "look_back=100\r\n",
        "trainPredictPlot = np.empty_like(df1)\r\n",
        "trainPredictPlot[:, :] = np.nan\r\n",
        "trainPredictPlot[look_back:len(train_predict)+look_back, :] = train_predict\r\n",
        "# shift test predictions for plotting\r\n",
        "testPredictPlot = np.empty_like(df1)\r\n",
        "testPredictPlot[:, :] = np.nan\r\n",
        "testPredictPlot[len(train_predict)+(look_back*2)+1:len(df1)-1, :] = test_predict\r\n",
        "# plot baseline and predictions\r\n",
        "plt.plot(scaler.inverse_transform(df1))\r\n",
        "plt.plot(trainPredictPlot)\r\n",
        "plt.plot(testPredictPlot)\r\n",
        "plt.show()"
      ],
      "execution_count": 29,
      "outputs": [
        {
          "output_type": "display_data",
          "data": {
            "image/png": "[encoded data removed]",
            "text/plain": [
              "<Figure size 432x288 with 1 Axes>"
            ]
          },
          "metadata": {
            "tags": [],
            "needs_background": "light"
          }
        }
      ]
    }
  ]
}